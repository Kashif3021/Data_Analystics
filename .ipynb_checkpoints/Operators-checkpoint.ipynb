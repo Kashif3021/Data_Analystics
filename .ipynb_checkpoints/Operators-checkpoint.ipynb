{
 "cells": [
  {
   "cell_type": "markdown",
   "id": "e7c32a23-f16d-4c92-99ea-f3f0f8a0420f",
   "metadata": {},
   "source": [
    "Operators "
   ]
  },
  {
   "cell_type": "markdown",
   "id": "cb1e5283-be67-443c-a0e2-c2add2dac23a",
   "metadata": {},
   "source": [
    "Arithmetic Operators"
   ]
  },
  {
   "cell_type": "markdown",
   "id": "461bca2a-5794-4f2d-88ca-b1c32c727652",
   "metadata": {},
   "source": [
    "Addation "
   ]
  },
  {
   "cell_type": "code",
   "execution_count": 7,
   "id": "808d9649-da9e-4511-a805-35629c1eeb15",
   "metadata": {},
   "outputs": [],
   "source": [
    "# A = 10 \n",
    "# b = 20 \n",
    "# sum = A + b\n",
    "# print(\" The sum of A and B is : \",sum)"
   ]
  },
  {
   "cell_type": "markdown",
   "id": "4fd737c4-a7b2-4af1-a618-8f430b762d41",
   "metadata": {},
   "source": [
    "Substraction "
   ]
  },
  {
   "cell_type": "code",
   "execution_count": 12,
   "id": "2164e728-b17a-458d-8269-548d5218b11b",
   "metadata": {},
   "outputs": [],
   "source": [
    "# A = 30 \n",
    "# B = 40 \n",
    "# Substraction = B - A\n",
    "# print(\"The Substraction of B  from A is :\",Substraction)"
   ]
  },
  {
   "cell_type": "code",
   "execution_count": 14,
   "id": "11432784-a31d-4aea-8e99-256eef801b96",
   "metadata": {},
   "outputs": [],
   "source": [
    "# A = 30 \n",
    "# B = 40 \n",
    "# Multiplication = A*B\n",
    "# print(\"The Multiplication of A into B  is :\",Multiplication)"
   ]
  },
  {
   "cell_type": "code",
   "execution_count": 16,
   "id": "9654f8d2-4f63-467e-9f5c-a892955ede36",
   "metadata": {},
   "outputs": [],
   "source": [
    "# A = 30 \n",
    "# B = 40 \n",
    "# Division = A/B\n",
    "# print(\"The Division of A by B  is :\",Division)"
   ]
  },
  {
   "cell_type": "code",
   "execution_count": null,
   "id": "d44d0e18-f479-45cd-b3ad-7bbbc63c773b",
   "metadata": {},
   "outputs": [],
   "source": []
  }
 ],
 "metadata": {
  "kernelspec": {
   "display_name": "Python 3 (ipykernel)",
   "language": "python",
   "name": "python3"
  },
  "language_info": {
   "codemirror_mode": {
    "name": "ipython",
    "version": 3
   },
   "file_extension": ".py",
   "mimetype": "text/x-python",
   "name": "python",
   "nbconvert_exporter": "python",
   "pygments_lexer": "ipython3",
   "version": "3.13.5"
  }
 },
 "nbformat": 4,
 "nbformat_minor": 5
}
