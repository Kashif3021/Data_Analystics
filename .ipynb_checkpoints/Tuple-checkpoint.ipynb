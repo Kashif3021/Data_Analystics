{
 "cells": [
  {
   "cell_type": "markdown",
   "id": "4b55e2fa-747e-4e71-bf9b-4fff18d88861",
   "metadata": {},
   "source": [
    "# Tuple "
   ]
  },
  {
   "cell_type": "code",
   "execution_count": 1,
   "id": "09932008-f12c-46c5-adb4-fefe56307bb8",
   "metadata": {},
   "outputs": [],
   "source": [
    "# A tuple is a collection of items in Python that is ordered, unchangeable (immutable) and allow duplicate values.\n",
    "# Tuples are used to store multiple items in a single variable.\n",
    "# Note: Ordered – Tuple items have a defined order, but that order will not change."
   ]
  },
  {
   "cell_type": "code",
   "execution_count": 7,
   "id": "b5503d05-401d-419d-b62b-499e7c770ee2",
   "metadata": {},
   "outputs": [],
   "source": [
    "# # Examples\n",
    "# fruits_lists = (\"Apple\",\"Mango\",\"Orange\")\n",
    "# student_data = (\"Ali\",\"age\",350)\n",
    "# print(type(fruits_lists))"
   ]
  },
  {
   "cell_type": "markdown",
   "id": "3b484c41-3e11-426f-b4a5-a2cf2c720ee7",
   "metadata": {
    "jp-MarkdownHeadingCollapsed": true
   },
   "source": [
    "# Create Tuple in Python "
   ]
  },
  {
   "cell_type": "code",
   "execution_count": 9,
   "id": "8b3cf218-00c6-495a-b373-51d996ba0bd5",
   "metadata": {},
   "outputs": [],
   "source": [
    "# There are several ways to create a tuple in Python"
   ]
  },
  {
   "cell_type": "markdown",
   "id": "bfbfc57a-e5c1-489e-b7bf-65d051f3cfb1",
   "metadata": {},
   "source": [
    "# 1. Using Parentheses ()"
   ]
  },
  {
   "cell_type": "code",
   "execution_count": 10,
   "id": "78deada5-2a21-404c-a075-50acfb0fc653",
   "metadata": {},
   "outputs": [],
   "source": [
    "Colurs = (\"Read\",\"Green\",\"Blue\")\n",
    "numbers = (1,2,3,4,5)\n",
    "Mixed = (1,\"Hello\",3.14,True)\n",
    "nested = ()"
   ]
  },
  {
   "cell_type": "code",
   "execution_count": null,
   "id": "674fc160-537d-4fcc-9be8-852cc3b8d5b1",
   "metadata": {},
   "outputs": [],
   "source": []
  }
 ],
 "metadata": {
  "kernelspec": {
   "display_name": "Python 3 (ipykernel)",
   "language": "python",
   "name": "python3"
  },
  "language_info": {
   "codemirror_mode": {
    "name": "ipython",
    "version": 3
   },
   "file_extension": ".py",
   "mimetype": "text/x-python",
   "name": "python",
   "nbconvert_exporter": "python",
   "pygments_lexer": "ipython3",
   "version": "3.13.7"
  }
 },
 "nbformat": 4,
 "nbformat_minor": 5
}
