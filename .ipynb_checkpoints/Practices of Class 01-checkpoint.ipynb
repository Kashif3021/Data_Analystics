{
 "cells": [
  {
   "cell_type": "markdown",
   "id": "b526ad90-64f4-47e9-b940-497d6a4cbc41",
   "metadata": {},
   "source": [
    "Basics of Python"
   ]
  },
  {
   "cell_type": "markdown",
   "id": "1d2359ec-688f-4a7b-87f3-e1b7330ea502",
   "metadata": {},
   "source": [
    "Data Types "
   ]
  },
  {
   "cell_type": "code",
   "execution_count": 4,
   "id": "d1a6dcd1-3811-4d1e-abd2-a74eb1937f11",
   "metadata": {},
   "outputs": [
    {
     "name": "stdout",
     "output_type": "stream",
     "text": [
      "Hello\n"
     ]
    }
   ],
   "source": [
    "print( \"Hello\")"
   ]
  },
  {
   "cell_type": "code",
   "execution_count": 12,
   "id": "00a36247-11d3-4976-a756-d8798f75f6b1",
   "metadata": {},
   "outputs": [
    {
     "name": "stdout",
     "output_type": "stream",
     "text": [
      "4000\n",
      "2.45\n"
     ]
    }
   ],
   "source": [
    "# print(4000)  # This is integer type of data (whole number) and aslo note down it denoted by (int)"
   ]
  },
  {
   "cell_type": "code",
   "execution_count": 10,
   "id": "8e6a3f81-52bc-4fb3-be73-24824a608bdf",
   "metadata": {},
   "outputs": [
    {
     "name": "stdout",
     "output_type": "stream",
     "text": [
      "2.45\n"
     ]
    }
   ],
   "source": [
    "print(2.45) # This is float type of data (having deciamal point )"
   ]
  },
  {
   "cell_type": "code",
   "execution_count": 11,
   "id": "f71d5a3f-55b2-4f2a-9e10-c5be87591ca9",
   "metadata": {},
   "outputs": [
    {
     "name": "stdout",
     "output_type": "stream",
     "text": [
      " I am Data Analyst\n"
     ]
    }
   ],
   "source": [
    "print(\" I am Data Analyst\") # This is String  type of data (whole number) and aslo note down it denoted by (str)"
   ]
  },
  {
   "cell_type": "code",
   "execution_count": 13,
   "id": "8d8ecff3-9665-4513-b657-be0f2f8721ba",
   "metadata": {},
   "outputs": [
    {
     "name": "stdout",
     "output_type": "stream",
     "text": [
      "I'm Alia\n"
     ]
    }
   ],
   "source": [
    "print(\"I'm Alia\")"
   ]
  },
  {
   "cell_type": "code",
   "execution_count": 15,
   "id": "d6116d56-131e-4502-ab03-75414dbdc9e7",
   "metadata": {},
   "outputs": [
    {
     "name": "stdout",
     "output_type": "stream",
     "text": [
      " \"The Art of Grammar.\"\n"
     ]
    }
   ],
   "source": [
    "print(' \"The Art of Grammar.\"')"
   ]
  },
  {
   "cell_type": "code",
   "execution_count": null,
   "id": "10e6287f-0e91-4cbd-a282-16ce2159e484",
   "metadata": {},
   "outputs": [],
   "source": []
  }
 ],
 "metadata": {
  "kernelspec": {
   "display_name": "Python 3 (ipykernel)",
   "language": "python",
   "name": "python3"
  },
  "language_info": {
   "codemirror_mode": {
    "name": "ipython",
    "version": 3
   },
   "file_extension": ".py",
   "mimetype": "text/x-python",
   "name": "python",
   "nbconvert_exporter": "python",
   "pygments_lexer": "ipython3",
   "version": "3.13.5"
  }
 },
 "nbformat": 4,
 "nbformat_minor": 5
}
