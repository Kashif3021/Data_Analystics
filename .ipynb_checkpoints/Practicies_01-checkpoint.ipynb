{
 "cells": [
  {
   "cell_type": "markdown",
   "id": "97ab3106-3a16-4f32-ba0f-3a9f652ea70c",
   "metadata": {},
   "source": [
    "## List Creating"
   ]
  },
  {
   "cell_type": "code",
   "execution_count": 14,
   "id": "4a141799-d2c3-47b2-a153-d77ae67d8282",
   "metadata": {},
   "outputs": [],
   "source": [
    "Student_marks=[20,40,60,70,35,70,30]"
   ]
  },
  {
   "cell_type": "code",
   "execution_count": 4,
   "id": "ce0a81a1-c94b-4434-8a08-b23b5241dbb1",
   "metadata": {},
   "outputs": [
    {
     "name": "stdout",
     "output_type": "stream",
     "text": [
      "[20, 40, 60, 70, 35, 70, 30]\n"
     ]
    }
   ],
   "source": [
    "print(Student_marks)"
   ]
  },
  {
   "cell_type": "code",
   "execution_count": 5,
   "id": "45786153-de90-4134-8f2f-9370e051778a",
   "metadata": {},
   "outputs": [],
   "source": [
    "students_courses_name=[\"English\",\"Urdu\",\"PakStudy\",\"Mathematices\",\"Physcis\",\"Computer Science\"]"
   ]
  },
  {
   "cell_type": "code",
   "execution_count": 6,
   "id": "0e7cddf5-c388-4290-97ba-7591da7bcbb1",
   "metadata": {},
   "outputs": [
    {
     "name": "stdout",
     "output_type": "stream",
     "text": [
      "['English', 'Urdu', 'PakStudy', 'Mathematices', 'Physcis', 'Computer Science']\n"
     ]
    }
   ],
   "source": [
    "print(students_courses_name)"
   ]
  },
  {
   "cell_type": "code",
   "execution_count": 23,
   "id": "8022d988-3572-4661-a5be-40de114f3fae",
   "metadata": {},
   "outputs": [],
   "source": [
    "Fruits_names_list=[\"apple\",\"Banana\",\"orange\",\"Grapics\",\"Opricat\"]"
   ]
  },
  {
   "cell_type": "code",
   "execution_count": 24,
   "id": "65c2f70c-ec26-4ab2-a984-cb5abb8b9506",
   "metadata": {},
   "outputs": [
    {
     "name": "stdout",
     "output_type": "stream",
     "text": [
      "['apple', 'Banana', 'orange', 'Grapics', 'Opricat']\n"
     ]
    }
   ],
   "source": [
    "print(Fruits_names_list)"
   ]
  },
  {
   "cell_type": "code",
   "execution_count": 3,
   "id": "f56d8c87-b12a-4597-ab94-6c591eb11e74",
   "metadata": {},
   "outputs": [],
   "source": [
    "employee_data =[\"age\",\"name\",\"ID_Number\",6000]"
   ]
  },
  {
   "cell_type": "code",
   "execution_count": 9,
   "id": "e0f6bbac-cbde-4884-a697-31fb0f6cb48b",
   "metadata": {},
   "outputs": [
    {
     "name": "stdout",
     "output_type": "stream",
     "text": [
      "['age', 'name', 'ID_Number', 6000]\n"
     ]
    }
   ],
   "source": [
    "print(employee_data)"
   ]
  },
  {
   "cell_type": "code",
   "execution_count": 1,
   "id": "12891fa6-9cd4-4dc8-b494-6068d3330818",
   "metadata": {},
   "outputs": [],
   "source": [
    "# How toCheck length of a list"
   ]
  },
  {
   "cell_type": "code",
   "execution_count": 4,
   "id": "c58f2b1a-626d-43c8-b468-2f3ab680d091",
   "metadata": {},
   "outputs": [
    {
     "data": {
      "text/plain": [
       "4"
      ]
     },
     "execution_count": 4,
     "metadata": {},
     "output_type": "execute_result"
    }
   ],
   "source": [
    "len(employee_data)"
   ]
  },
  {
   "cell_type": "markdown",
   "id": "df9db506-04d6-4a97-aaee-e91988143858",
   "metadata": {},
   "source": [
    "# Indexing "
   ]
  },
  {
   "cell_type": "markdown",
   "id": "ef942306-362b-48b7-833c-4ce222d16fdf",
   "metadata": {},
   "source": [
    "## Two type indexing Positive & Negative indexing"
   ]
  },
  {
   "cell_type": "code",
   "execution_count": 32,
   "id": "f0f8b53d-bc9e-4c5b-b6c0-c8314d9e5d17",
   "metadata": {},
   "outputs": [],
   "source": [
    "# index access only one value/elemet from the list"
   ]
  },
  {
   "cell_type": "code",
   "execution_count": 25,
   "id": "b40f3240-c953-4029-9da8-0fd15e81ff67",
   "metadata": {},
   "outputs": [
    {
     "data": {
      "text/plain": [
       "['apple', 'Banana', 'orange', 'Grapics', 'Opricat']"
      ]
     },
     "execution_count": 25,
     "metadata": {},
     "output_type": "execute_result"
    }
   ],
   "source": [
    "Fruits_names_list"
   ]
  },
  {
   "cell_type": "code",
   "execution_count": null,
   "id": "fa2f3e54-f8e1-47b9-81a0-ae474f0aa093",
   "metadata": {},
   "outputs": [],
   "source": [
    "# 0           1          2         3          4      Positvie indexing"
   ]
  },
  {
   "cell_type": "code",
   "execution_count": 26,
   "id": "e74211c7-04fc-4fee-b102-44aae0216374",
   "metadata": {},
   "outputs": [
    {
     "name": "stdout",
     "output_type": "stream",
     "text": [
      "orange\n"
     ]
    }
   ],
   "source": [
    "print(Fruits_names_list[2])"
   ]
  },
  {
   "cell_type": "code",
   "execution_count": 28,
   "id": "efb34ad8-ee7d-488f-aaec-aa48941f46dc",
   "metadata": {},
   "outputs": [
    {
     "data": {
      "text/plain": [
       "['apple', 'Banana', 'orange', 'Grapics', 'Opricat']"
      ]
     },
     "execution_count": 28,
     "metadata": {},
     "output_type": "execute_result"
    }
   ],
   "source": [
    "Fruits_names_list"
   ]
  },
  {
   "cell_type": "code",
   "execution_count": 29,
   "id": "0951d9c3-438a-4267-a778-e626349d92af",
   "metadata": {},
   "outputs": [],
   "source": [
    "#  -5      -4        -3          -2           -1              Negative indexing"
   ]
  },
  {
   "cell_type": "code",
   "execution_count": 30,
   "id": "2693b34d-8caf-44b2-9c9d-3f35b5d1a57e",
   "metadata": {},
   "outputs": [
    {
     "name": "stdout",
     "output_type": "stream",
     "text": [
      "orange\n"
     ]
    }
   ],
   "source": [
    "print(Fruits_names_list[-3])"
   ]
  },
  {
   "cell_type": "code",
   "execution_count": null,
   "id": "353e24ea-9b91-4f9d-bb8d-d896f7b60205",
   "metadata": {},
   "outputs": [],
   "source": []
  },
  {
   "cell_type": "markdown",
   "id": "d841b24f-302d-41b7-ae06-dc168f426ae9",
   "metadata": {},
   "source": [
    "# Slicing "
   ]
  },
  {
   "cell_type": "code",
   "execution_count": 1,
   "id": "3e08aa56-6fb0-4cf7-a4ad-406d37d63a09",
   "metadata": {},
   "outputs": [],
   "source": [
    "color_list=[\"red\",\"white\",\"Blue\",\"green\",\"Yellow\"]"
   ]
  },
  {
   "cell_type": "code",
   "execution_count": 2,
   "id": "e0578b05-c3b5-4326-afbd-ab4c98b92fcb",
   "metadata": {},
   "outputs": [
    {
     "name": "stdout",
     "output_type": "stream",
     "text": [
      "['red', 'white', 'Blue', 'green', 'Yellow']\n"
     ]
    }
   ],
   "source": [
    "print(color_list)"
   ]
  },
  {
   "cell_type": "code",
   "execution_count": 4,
   "id": "59ff8d77-58b0-4dbe-a85a-55b361a79153",
   "metadata": {},
   "outputs": [
    {
     "data": {
      "text/plain": [
       "['white', 'Blue']"
      ]
     },
     "execution_count": 4,
     "metadata": {},
     "output_type": "execute_result"
    }
   ],
   "source": [
    "color_list[1:3]      # also noted down stop vlaue excluded"
   ]
  },
  {
   "cell_type": "code",
   "execution_count": 11,
   "id": "c37e6ef8-15b2-42aa-b60f-2f6934c95077",
   "metadata": {},
   "outputs": [],
   "source": [
    "student_marks= [20,40,30,10,60,80,90,95,65,60]"
   ]
  },
  {
   "cell_type": "code",
   "execution_count": null,
   "id": "c087caac-bc3c-480e-ba72-d045fda3510e",
   "metadata": {},
   "outputs": [],
   "source": [
    "# index          0  1  2  3  4  5  6  7 8  9 "
   ]
  },
  {
   "cell_type": "code",
   "execution_count": null,
   "id": "5bf2df30-8385-45d0-8c71-122c2f9a5be3",
   "metadata": {},
   "outputs": [],
   "source": [
    "# index       -10  -9  -8 -7 -6 -5 -4 -3 -2 -1 "
   ]
  },
  {
   "cell_type": "code",
   "execution_count": 17,
   "id": "cac77637-3204-4bc0-8a67-dc779cff365c",
   "metadata": {},
   "outputs": [
    {
     "name": "stdout",
     "output_type": "stream",
     "text": [
      "[40, 30, 10, 60]\n"
     ]
    }
   ],
   "source": [
    "print(student_marks[1:5])"
   ]
  },
  {
   "cell_type": "code",
   "execution_count": 18,
   "id": "1393fbe3-f2ef-4314-94ba-20458eab137f",
   "metadata": {},
   "outputs": [
    {
     "name": "stdout",
     "output_type": "stream",
     "text": [
      "[20, 40, 30, 10, 60, 80]\n"
     ]
    }
   ],
   "source": [
    "print(student_marks[:6]) "
   ]
  },
  {
   "cell_type": "code",
   "execution_count": 19,
   "id": "c3d3f67f-0a22-4f1a-96c8-67e9ce776f22",
   "metadata": {},
   "outputs": [
    {
     "name": "stdout",
     "output_type": "stream",
     "text": [
      "[60, 80, 90, 95, 65, 60]\n"
     ]
    }
   ],
   "source": [
    "print(student_marks[4:])"
   ]
  },
  {
   "cell_type": "code",
   "execution_count": 21,
   "id": "f948bb43-7968-45c7-9da6-59ba9386dc4d",
   "metadata": {},
   "outputs": [
    {
     "name": "stdout",
     "output_type": "stream",
     "text": [
      "[20, 10, 90, 60]\n"
     ]
    }
   ],
   "source": [
    "print(student_marks[0:10:3])"
   ]
  },
  {
   "cell_type": "code",
   "execution_count": null,
   "id": "6fd71390-bdcd-499c-a349-ac477033cf52",
   "metadata": {},
   "outputs": [],
   "source": []
  },
  {
   "cell_type": "code",
   "execution_count": 38,
   "id": "4b73756d-d078-4dba-841e-aac028918b9e",
   "metadata": {},
   "outputs": [],
   "source": [
    "Fruits_names_list=[\"apple\",\"Banana\",\"orange\",\"Grapics\",student_marks,]"
   ]
  },
  {
   "cell_type": "code",
   "execution_count": 34,
   "id": "a0e07876-38dd-434a-be9e-ff1fd76bef1e",
   "metadata": {},
   "outputs": [
    {
     "name": "stdout",
     "output_type": "stream",
     "text": [
      "['apple', 'Banana', 'orange', 'Grapics', [20, 40, 30, 10, 60, 80, 90, 95, 65, 60]]\n"
     ]
    }
   ],
   "source": [
    "print(Fruits_names_list)"
   ]
  },
  {
   "cell_type": "code",
   "execution_count": 40,
   "id": "8c64e960-84e2-465d-81ac-883f488d458e",
   "metadata": {},
   "outputs": [
    {
     "name": "stdout",
     "output_type": "stream",
     "text": [
      "[20, 40, 30, 10, 60, 80, 90, 95, 65, 60]\n"
     ]
    }
   ],
   "source": [
    "print(Fruits_names_list[4])"
   ]
  },
  {
   "cell_type": "code",
   "execution_count": null,
   "id": "96454555-0f2d-4508-9dcd-046eeced4e3d",
   "metadata": {},
   "outputs": [],
   "source": []
  }
 ],
 "metadata": {
  "kernelspec": {
   "display_name": "Python 3 (ipykernel)",
   "language": "python",
   "name": "python3"
  },
  "language_info": {
   "codemirror_mode": {
    "name": "ipython",
    "version": 3
   },
   "file_extension": ".py",
   "mimetype": "text/x-python",
   "name": "python",
   "nbconvert_exporter": "python",
   "pygments_lexer": "ipython3",
   "version": "3.13.7"
  }
 },
 "nbformat": 4,
 "nbformat_minor": 5
}
