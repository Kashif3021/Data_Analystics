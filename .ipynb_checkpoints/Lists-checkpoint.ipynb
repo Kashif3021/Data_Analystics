{
 "cells": [
  {
   "cell_type": "markdown",
   "id": "3d75da4a-449c-4292-9adc-f869ec4b51f0",
   "metadata": {},
   "source": [
    "# List Creating"
   ]
  },
  {
   "cell_type": "code",
   "execution_count": 2,
   "id": "ec017a7c-8401-469c-8ebe-96bf7f367cea",
   "metadata": {},
   "outputs": [],
   "source": [
    "my_list = [20,30,40,60,70,80,90,99,95,85]"
   ]
  },
  {
   "cell_type": "code",
   "execution_count": 1,
   "id": "2d7a76fc-0a49-4675-a5b7-d55e888a8704",
   "metadata": {},
   "outputs": [],
   "source": [
    "# index    0  1  2  3  4  5  6  7   8   9\n",
    "# index   -10 -9 -8 -7 -6- -5 -4 -3 -2 -1"
   ]
  },
  {
   "cell_type": "code",
   "execution_count": 2,
   "id": "f13347f0-4e69-4191-bf16-c576974c0a9d",
   "metadata": {},
   "outputs": [],
   "source": [
    "color_list = [\"red\",\"white\",\"blue\",\"green\",\"yellow\"]"
   ]
  },
  {
   "cell_type": "markdown",
   "id": "6bbc77b9-73ed-489b-a3e7-22ebe744b2ee",
   "metadata": {},
   "source": [
    "# indexing "
   ]
  },
  {
   "cell_type": "code",
   "execution_count": 20,
   "id": "9ecb8031-326a-4dfd-b111-7b184bf8db5f",
   "metadata": {},
   "outputs": [],
   "source": [
    "# in indexing only one value access "
   ]
  },
  {
   "cell_type": "code",
   "execution_count": 23,
   "id": "15a25fed-cd0d-4f63-928f-231955741448",
   "metadata": {},
   "outputs": [],
   "source": [
    "my_list = [20,30,40,60,70,80,90,99,95,85]\n",
    "# index    0  1  2  3  4  5  6  7   8   9\n",
    "# index   -10 -9 -8 -7 -6- -5 -4 -3 -2 -1"
   ]
  },
  {
   "cell_type": "code",
   "execution_count": 10,
   "id": "3ec13942-48d7-4ffb-ab08-efd919f813aa",
   "metadata": {},
   "outputs": [],
   "source": [
    "#Sntax:\n",
    "#list_name[index]#"
   ]
  },
  {
   "cell_type": "code",
   "execution_count": 11,
   "id": "ea799741-bf11-4fb7-807f-2c81589ceabd",
   "metadata": {},
   "outputs": [],
   "source": [
    "# First element"
   ]
  },
  {
   "cell_type": "code",
   "execution_count": 21,
   "id": "aea1099b-be33-473f-8ab4-f8df6d99d4c7",
   "metadata": {},
   "outputs": [],
   "source": [
    "# my_list[0]"
   ]
  },
  {
   "cell_type": "code",
   "execution_count": 13,
   "id": "957afb8a-b2b6-41e3-a133-9ec2db3cc79f",
   "metadata": {},
   "outputs": [],
   "source": [
    "# last elements"
   ]
  },
  {
   "cell_type": "code",
   "execution_count": 22,
   "id": "ffb21cfe-397b-41f1-bdd9-da93507aa3bb",
   "metadata": {},
   "outputs": [],
   "source": [
    "# my_list[-1]\n",
    "# my_list[9]\n"
   ]
  },
  {
   "cell_type": "markdown",
   "id": "1aeff7ac-31b2-4c8b-86bf-e70202f8d4d7",
   "metadata": {},
   "source": [
    "# Slicing of list "
   ]
  },
  {
   "cell_type": "code",
   "execution_count": 1,
   "id": "62242caa-7aeb-4f2a-8561-347d168ff3e8",
   "metadata": {},
   "outputs": [],
   "source": [
    "# slicing accesess range of elements  by referencing start,stop and between colon"
   ]
  },
  {
   "cell_type": "code",
   "execution_count": 9,
   "id": "94e52e48-b5cd-46f6-895e-7ab9795c8c9f",
   "metadata": {},
   "outputs": [],
   "source": [
    "my_list = [20,30,40,60,70,80,90,99,95,85]\n",
    "# index    0  1  2  3  4  5  6  7   8   9\n",
    "# index   -10 -9 -8 -7 -6- -5 -4 -3 -2 -1"
   ]
  },
  {
   "cell_type": "code",
   "execution_count": 10,
   "id": "f5dd200b-8634-451e-86e7-d798572b7d9a",
   "metadata": {},
   "outputs": [],
   "source": [
    "# Syntax:\n",
    "#list_name[start:stop:step]"
   ]
  },
  {
   "cell_type": "code",
   "execution_count": 11,
   "id": "c1912586-2aee-4ef6-afb7-d12169c766ef",
   "metadata": {},
   "outputs": [],
   "source": [
    "# Start inclusive , Default is 0\n",
    "# stopt exclusive , Default is -1/last value of index"
   ]
  },
  {
   "cell_type": "code",
   "execution_count": 12,
   "id": "c3097bd9-a48b-49d8-9ac0-88ab784bab28",
   "metadata": {},
   "outputs": [],
   "source": [
    "# First 3 elements  1 to 3 "
   ]
  },
  {
   "cell_type": "code",
   "execution_count": 13,
   "id": "89d80a10-9b15-4c44-b01e-9cd7277c2f41",
   "metadata": {},
   "outputs": [],
   "source": [
    "# print(my_list[0:3])"
   ]
  },
  {
   "cell_type": "code",
   "execution_count": 14,
   "id": "254fa75e-225e-4f69-830b-b27526220533",
   "metadata": {},
   "outputs": [],
   "source": [
    "#  from list elements 1 to 4"
   ]
  },
  {
   "cell_type": "code",
   "execution_count": 15,
   "id": "16aa1894-a420-4f2e-8831-d23ee9b5188e",
   "metadata": {},
   "outputs": [],
   "source": [
    "# print(my_list[0:5])"
   ]
  },
  {
   "cell_type": "code",
   "execution_count": 16,
   "id": "7a43889f-4db1-46b5-80b5-90fade26da1d",
   "metadata": {},
   "outputs": [],
   "source": [
    "# alternative value of elements"
   ]
  },
  {
   "cell_type": "code",
   "execution_count": 20,
   "id": "fd598da1-1b26-413d-977d-c290037ac419",
   "metadata": {},
   "outputs": [],
   "source": [
    "# print(my_list[::2])"
   ]
  },
  {
   "cell_type": "code",
   "execution_count": 27,
   "id": "dda2091a-1dfe-4ad7-803b-db881b0ae391",
   "metadata": {},
   "outputs": [],
   "source": [
    "# reverse list "
   ]
  },
  {
   "cell_type": "code",
   "execution_count": 22,
   "id": "c0897bd9-738b-494b-b694-11773d22fef9",
   "metadata": {},
   "outputs": [],
   "source": [
    "# my_list[::-1]"
   ]
  },
  {
   "cell_type": "markdown",
   "id": "9f6752e4-557b-49ab-9f4a-5195998a84bb",
   "metadata": {},
   "source": [
    "# Modify list "
   ]
  },
  {
   "cell_type": "code",
   "execution_count": 29,
   "id": "62a09c2e-0eed-435e-ba68-dd18419dd652",
   "metadata": {},
   "outputs": [],
   "source": [
    "# after creating list, You can change,add and remove Values form list"
   ]
  },
  {
   "cell_type": "code",
   "execution_count": 26,
   "id": "ab0d6601-e37d-4bf8-9c47-c4278a7f01db",
   "metadata": {},
   "outputs": [],
   "source": [
    "fruits = [\"mange\",\"orange\",\"apple\"]"
   ]
  },
  {
   "cell_type": "code",
   "execution_count": 30,
   "id": "86827a7d-3a49-41f5-8dfa-d4784f9afe92",
   "metadata": {},
   "outputs": [
    {
     "name": "stdout",
     "output_type": "stream",
     "text": [
      "['mange', 'orange', 'apple']\n"
     ]
    }
   ],
   "source": [
    "print(fruits)"
   ]
  },
  {
   "cell_type": "code",
   "execution_count": 35,
   "id": "52a7030b-2c72-4e62-8031-1b041067d04e",
   "metadata": {},
   "outputs": [],
   "source": [
    "# adding in Values in the list \n",
    "# list_name.append(\"elements\")"
   ]
  },
  {
   "cell_type": "code",
   "execution_count": 33,
   "id": "bd8512bf-80f5-4c37-a705-14418fcf15b8",
   "metadata": {},
   "outputs": [],
   "source": [
    "fruits.append(\"Grapes\")"
   ]
  },
  {
   "cell_type": "code",
   "execution_count": 34,
   "id": "79923fca-06c4-4c1f-b797-dc4516f4cec3",
   "metadata": {},
   "outputs": [
    {
     "name": "stdout",
     "output_type": "stream",
     "text": [
      "['mange', 'orange', 'apple', 'Grapes']\n"
     ]
    }
   ],
   "source": [
    "print(fruits)"
   ]
  },
  {
   "cell_type": "code",
   "execution_count": 38,
   "id": "3302f87e-29c9-4df5-a0ad-0410a566a510",
   "metadata": {},
   "outputs": [],
   "source": [
    "fruits.append(\"watermelon\")"
   ]
  },
  {
   "cell_type": "code",
   "execution_count": 39,
   "id": "9891fb81-68c7-4ad7-84b6-7934a9505427",
   "metadata": {},
   "outputs": [
    {
     "name": "stdout",
     "output_type": "stream",
     "text": [
      "['mange', 'orange', 'apple', 'Grapes', 'watermelon', 'watermelon', 'watermelon']\n"
     ]
    }
   ],
   "source": [
    "print(fruits)"
   ]
  },
  {
   "cell_type": "code",
   "execution_count": 40,
   "id": "360de826-16f7-4a39-8c8b-d13d91e2ea85",
   "metadata": {},
   "outputs": [],
   "source": [
    "# Reomving and items/value form list\n",
    "# list_name.reomve(\"item/Value\")"
   ]
  },
  {
   "cell_type": "code",
   "execution_count": 41,
   "id": "4c2fe728-2aa6-483b-867e-3716d91194c6",
   "metadata": {},
   "outputs": [],
   "source": [
    "fruits.remove(\"watermelon\")"
   ]
  },
  {
   "cell_type": "code",
   "execution_count": 42,
   "id": "93c2d0ec-7a58-4efa-9019-a0fea0199bec",
   "metadata": {},
   "outputs": [
    {
     "name": "stdout",
     "output_type": "stream",
     "text": [
      "['mange', 'orange', 'apple', 'Grapes', 'watermelon', 'watermelon']\n"
     ]
    }
   ],
   "source": [
    "print(fruits)"
   ]
  },
  {
   "cell_type": "code",
   "execution_count": null,
   "id": "4cc6632f-586a-4f90-9933-971f6d624a4f",
   "metadata": {},
   "outputs": [],
   "source": []
  }
 ],
 "metadata": {
  "kernelspec": {
   "display_name": "Python 3 (ipykernel)",
   "language": "python",
   "name": "python3"
  },
  "language_info": {
   "codemirror_mode": {
    "name": "ipython",
    "version": 3
   },
   "file_extension": ".py",
   "mimetype": "text/x-python",
   "name": "python",
   "nbconvert_exporter": "python",
   "pygments_lexer": "ipython3",
   "version": "3.13.7"
  }
 },
 "nbformat": 4,
 "nbformat_minor": 5
}
