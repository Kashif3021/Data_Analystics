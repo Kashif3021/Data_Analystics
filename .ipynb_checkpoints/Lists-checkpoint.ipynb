{
 "cells": [
  {
   "cell_type": "markdown",
   "id": "3d75da4a-449c-4292-9adc-f869ec4b51f0",
   "metadata": {
    "jp-MarkdownHeadingCollapsed": true
   },
   "source": [
    "# List Creating"
   ]
  },
  {
   "cell_type": "code",
   "execution_count": 2,
   "id": "ec017a7c-8401-469c-8ebe-96bf7f367cea",
   "metadata": {},
   "outputs": [],
   "source": [
    "# my_list = [20,30,40,60,70,80,90,99,95,85]"
   ]
  },
  {
   "cell_type": "code",
   "execution_count": 1,
   "id": "2d7a76fc-0a49-4675-a5b7-d55e888a8704",
   "metadata": {},
   "outputs": [],
   "source": [
    "# index    0  1  2  3  4  5  6  7   8   9\n",
    "# index   -10 -9 -8 -7 -6- -5 -4 -3 -2 -1"
   ]
  },
  {
   "cell_type": "code",
   "execution_count": 2,
   "id": "f13347f0-4e69-4191-bf16-c576974c0a9d",
   "metadata": {},
   "outputs": [],
   "source": [
    "# color_list = [\"red\",\"white\",\"blue\",\"green\",\"yellow\"]"
   ]
  },
  {
   "cell_type": "markdown",
   "id": "6bbc77b9-73ed-489b-a3e7-22ebe744b2ee",
   "metadata": {
    "jp-MarkdownHeadingCollapsed": true
   },
   "source": [
    "# indexing "
   ]
  },
  {
   "cell_type": "code",
   "execution_count": 20,
   "id": "9ecb8031-326a-4dfd-b111-7b184bf8db5f",
   "metadata": {},
   "outputs": [],
   "source": [
    "# in indexing only one value access "
   ]
  },
  {
   "cell_type": "code",
   "execution_count": 23,
   "id": "15a25fed-cd0d-4f63-928f-231955741448",
   "metadata": {},
   "outputs": [],
   "source": [
    "# my_list = [20,30,40,60,70,80,90,99,95,85]\n",
    "# index    0  1  2  3  4  5  6  7   8   9\n",
    "# index   -10 -9 -8 -7 -6- -5 -4 -3 -2 -1"
   ]
  },
  {
   "cell_type": "code",
   "execution_count": 10,
   "id": "3ec13942-48d7-4ffb-ab08-efd919f813aa",
   "metadata": {},
   "outputs": [],
   "source": [
    "#Sntax:\n",
    "#list_name[index]#"
   ]
  },
  {
   "cell_type": "code",
   "execution_count": 11,
   "id": "ea799741-bf11-4fb7-807f-2c81589ceabd",
   "metadata": {},
   "outputs": [],
   "source": [
    "# First element"
   ]
  },
  {
   "cell_type": "code",
   "execution_count": 21,
   "id": "aea1099b-be33-473f-8ab4-f8df6d99d4c7",
   "metadata": {},
   "outputs": [],
   "source": [
    "# my_list[0]"
   ]
  },
  {
   "cell_type": "code",
   "execution_count": 13,
   "id": "957afb8a-b2b6-41e3-a133-9ec2db3cc79f",
   "metadata": {},
   "outputs": [],
   "source": [
    "# last elements"
   ]
  },
  {
   "cell_type": "code",
   "execution_count": 22,
   "id": "ffb21cfe-397b-41f1-bdd9-da93507aa3bb",
   "metadata": {},
   "outputs": [],
   "source": [
    "# my_list[-1]\n",
    "# my_list[9]\n"
   ]
  },
  {
   "cell_type": "markdown",
   "id": "1aeff7ac-31b2-4c8b-86bf-e70202f8d4d7",
   "metadata": {
    "jp-MarkdownHeadingCollapsed": true
   },
   "source": [
    "# Slicing of list "
   ]
  },
  {
   "cell_type": "code",
   "execution_count": 1,
   "id": "62242caa-7aeb-4f2a-8561-347d168ff3e8",
   "metadata": {},
   "outputs": [],
   "source": [
    "# slicing accesess range of elements  by referencing start,stop and between colon"
   ]
  },
  {
   "cell_type": "code",
   "execution_count": 9,
   "id": "94e52e48-b5cd-46f6-895e-7ab9795c8c9f",
   "metadata": {},
   "outputs": [],
   "source": [
    "my_list = [20,30,40,60,70,80,90,99,95,85]\n",
    "# index    0  1  2  3  4  5  6  7   8   9\n",
    "# index   -10 -9 -8 -7 -6- -5 -4 -3 -2 -1"
   ]
  },
  {
   "cell_type": "code",
   "execution_count": 10,
   "id": "f5dd200b-8634-451e-86e7-d798572b7d9a",
   "metadata": {},
   "outputs": [],
   "source": [
    "# Syntax:\n",
    "#list_name[start:stop:step]"
   ]
  },
  {
   "cell_type": "code",
   "execution_count": 11,
   "id": "c1912586-2aee-4ef6-afb7-d12169c766ef",
   "metadata": {},
   "outputs": [],
   "source": [
    "# Start inclusive , Default is 0\n",
    "# stopt exclusive , Default is -1/last value of index"
   ]
  },
  {
   "cell_type": "code",
   "execution_count": 12,
   "id": "c3097bd9-a48b-49d8-9ac0-88ab784bab28",
   "metadata": {},
   "outputs": [],
   "source": [
    "# First 3 elements  1 to 3 "
   ]
  },
  {
   "cell_type": "code",
   "execution_count": 13,
   "id": "89d80a10-9b15-4c44-b01e-9cd7277c2f41",
   "metadata": {},
   "outputs": [],
   "source": [
    "# print(my_list[0:3])"
   ]
  },
  {
   "cell_type": "code",
   "execution_count": 14,
   "id": "254fa75e-225e-4f69-830b-b27526220533",
   "metadata": {},
   "outputs": [],
   "source": [
    "#  from list elements 1 to 4"
   ]
  },
  {
   "cell_type": "code",
   "execution_count": 15,
   "id": "16aa1894-a420-4f2e-8831-d23ee9b5188e",
   "metadata": {},
   "outputs": [],
   "source": [
    "# print(my_list[0:5])"
   ]
  },
  {
   "cell_type": "code",
   "execution_count": 16,
   "id": "7a43889f-4db1-46b5-80b5-90fade26da1d",
   "metadata": {},
   "outputs": [],
   "source": [
    "# alternative value of elements"
   ]
  },
  {
   "cell_type": "code",
   "execution_count": 20,
   "id": "fd598da1-1b26-413d-977d-c290037ac419",
   "metadata": {},
   "outputs": [],
   "source": [
    "# print(my_list[::2])"
   ]
  },
  {
   "cell_type": "code",
   "execution_count": 27,
   "id": "dda2091a-1dfe-4ad7-803b-db881b0ae391",
   "metadata": {},
   "outputs": [],
   "source": [
    "# reverse list "
   ]
  },
  {
   "cell_type": "code",
   "execution_count": 22,
   "id": "c0897bd9-738b-494b-b694-11773d22fef9",
   "metadata": {},
   "outputs": [],
   "source": [
    "# my_list[::-1]"
   ]
  },
  {
   "cell_type": "markdown",
   "id": "9f6752e4-557b-49ab-9f4a-5195998a84bb",
   "metadata": {
    "jp-MarkdownHeadingCollapsed": true
   },
   "source": [
    "# Modify list "
   ]
  },
  {
   "cell_type": "code",
   "execution_count": 10,
   "id": "62a09c2e-0eed-435e-ba68-dd18419dd652",
   "metadata": {},
   "outputs": [],
   "source": [
    "# after creating list, You can change,add and remove Values form list"
   ]
  },
  {
   "cell_type": "code",
   "execution_count": 12,
   "id": "ab0d6601-e37d-4bf8-9c47-c4278a7f01db",
   "metadata": {},
   "outputs": [],
   "source": [
    "fruits = [\"mange\",\"orange\",\"apple\"]"
   ]
  },
  {
   "cell_type": "code",
   "execution_count": 13,
   "id": "86827a7d-3a49-41f5-8dfa-d4784f9afe92",
   "metadata": {},
   "outputs": [
    {
     "name": "stdout",
     "output_type": "stream",
     "text": [
      "['mange', 'orange', 'apple']\n"
     ]
    }
   ],
   "source": [
    "print(fruits)"
   ]
  },
  {
   "cell_type": "code",
   "execution_count": 35,
   "id": "52a7030b-2c72-4e62-8031-1b041067d04e",
   "metadata": {},
   "outputs": [],
   "source": [
    "# adding in Values in the list and also noted that append mtehod add value in the list in the last \n",
    "# list_name.append(\"elements\")"
   ]
  },
  {
   "cell_type": "code",
   "execution_count": 14,
   "id": "bd8512bf-80f5-4c37-a705-14418fcf15b8",
   "metadata": {},
   "outputs": [],
   "source": [
    "fruits.append(\"Grapes\")"
   ]
  },
  {
   "cell_type": "code",
   "execution_count": 15,
   "id": "79923fca-06c4-4c1f-b797-dc4516f4cec3",
   "metadata": {},
   "outputs": [
    {
     "name": "stdout",
     "output_type": "stream",
     "text": [
      "['mange', 'orange', 'apple', 'Grapes']\n"
     ]
    }
   ],
   "source": [
    "print(fruits)"
   ]
  },
  {
   "cell_type": "code",
   "execution_count": 19,
   "id": "3302f87e-29c9-4df5-a0ad-0410a566a510",
   "metadata": {},
   "outputs": [],
   "source": [
    "fruits.append(\"watermelon\")"
   ]
  },
  {
   "cell_type": "code",
   "execution_count": 20,
   "id": "9891fb81-68c7-4ad7-84b6-7934a9505427",
   "metadata": {},
   "outputs": [
    {
     "name": "stdout",
     "output_type": "stream",
     "text": [
      "['mange', 'orange', 'apple', 'Grapes', 'watermelon', 'watermelon']\n"
     ]
    }
   ],
   "source": [
    "print(fruits)"
   ]
  },
  {
   "cell_type": "code",
   "execution_count": 40,
   "id": "360de826-16f7-4a39-8c8b-d13d91e2ea85",
   "metadata": {},
   "outputs": [],
   "source": [
    "# Reomving and items/value form list\n",
    "# list_name.reomve(\"item/Value\")"
   ]
  },
  {
   "cell_type": "code",
   "execution_count": 21,
   "id": "4c2fe728-2aa6-483b-867e-3716d91194c6",
   "metadata": {},
   "outputs": [],
   "source": [
    "fruits.remove(\"watermelon\")"
   ]
  },
  {
   "cell_type": "code",
   "execution_count": 31,
   "id": "93c2d0ec-7a58-4efa-9019-a0fea0199bec",
   "metadata": {},
   "outputs": [
    {
     "name": "stdout",
     "output_type": "stream",
     "text": [
      "['mange', 'cherry', 'apple', 'Grapes', 'watermelon']\n"
     ]
    }
   ],
   "source": [
    "print(fruits)"
   ]
  },
  {
   "cell_type": "code",
   "execution_count": 32,
   "id": "42076a5f-7eaf-4637-bd0e-a70fa48dec1c",
   "metadata": {},
   "outputs": [
    {
     "name": "stdout",
     "output_type": "stream",
     "text": [
      "['mange', 'cherry', 'apple', 'Grapes', 'watermelon']\n"
     ]
    }
   ],
   "source": [
    "print(fruits)"
   ]
  },
  {
   "cell_type": "code",
   "execution_count": 29,
   "id": "4cc6632f-586a-4f90-9933-971f6d624a4f",
   "metadata": {},
   "outputs": [],
   "source": [
    "# replace a valve/element from the list\n",
    "# list_name[index] = Value/element"
   ]
  },
  {
   "cell_type": "code",
   "execution_count": 33,
   "id": "889f08f5-f7c1-4c02-adb2-66588a6b5900",
   "metadata": {},
   "outputs": [],
   "source": [
    "fruits[1]=\"cherry\""
   ]
  },
  {
   "cell_type": "code",
   "execution_count": 34,
   "id": "e4170943-03c7-451a-afa2-409262cd5b48",
   "metadata": {},
   "outputs": [
    {
     "name": "stdout",
     "output_type": "stream",
     "text": [
      "['mange', 'cherry', 'apple', 'Grapes', 'watermelon']\n"
     ]
    }
   ],
   "source": [
    "print(fruits)"
   ]
  },
  {
   "cell_type": "markdown",
   "id": "0a5748e6-fcab-4a87-965c-d49f00e09658",
   "metadata": {
    "jp-MarkdownHeadingCollapsed": true
   },
   "source": [
    "# List Method "
   ]
  },
  {
   "cell_type": "code",
   "execution_count": 1,
   "id": "6bd88116-323e-413f-b432-9e43f32ee965",
   "metadata": {},
   "outputs": [],
   "source": [
    "# Fruits=[\"mango\",\"Cherry\",\"Apple\",\"grapes\",\"watermelon\",\"apricat\"]"
   ]
  },
  {
   "cell_type": "code",
   "execution_count": 199,
   "id": "dd0201ab-c933-4814-8639-abde0ae9a68e",
   "metadata": {},
   "outputs": [],
   "source": [
    "# 01:- append method, it use to add value/element to list in the last \n",
    "# list_name.append(value/element)"
   ]
  },
  {
   "cell_type": "code",
   "execution_count": 200,
   "id": "feb50326-4ed7-4ff1-bb5a-bb261f2a993f",
   "metadata": {},
   "outputs": [],
   "source": [
    "# Fruits.append(\"Banana\")\n",
    "# print(Fruits)"
   ]
  },
  {
   "cell_type": "code",
   "execution_count": 201,
   "id": "440181f5-9676-47ad-a9ce-1825cf2e925c",
   "metadata": {},
   "outputs": [],
   "source": [
    "# 02;:- extend mtehod, it use to adds multiple elements (from anoteher iterable) to the end list\n",
    "# list_name.extend(another_list_name)"
   ]
  },
  {
   "cell_type": "code",
   "execution_count": 202,
   "id": "b511cdcb-29c2-4eec-9159-499870262046",
   "metadata": {},
   "outputs": [],
   "source": [
    "# more_fruits=[\"orange\",\"water Melon\"]"
   ]
  },
  {
   "cell_type": "code",
   "execution_count": 203,
   "id": "146e65d3-cfb9-4c40-816f-708ee49b6862",
   "metadata": {},
   "outputs": [],
   "source": [
    "# Fruits.extend(more_fruits)\n",
    "# print(Fruits)"
   ]
  },
  {
   "cell_type": "code",
   "execution_count": 204,
   "id": "253b1c57-d76b-466a-9616-552e9052656c",
   "metadata": {},
   "outputs": [],
   "source": [
    "# 03 insert an elements at a specified position\n",
    "# list_name.insert(index,elements)"
   ]
  },
  {
   "cell_type": "code",
   "execution_count": 205,
   "id": "c5d9f618-c4b8-40c9-8e9d-431179b0ab95",
   "metadata": {},
   "outputs": [],
   "source": [
    "# Fruits.insert(1,\"Khan Fruits\")\n",
    "# print(Fruits)"
   ]
  },
  {
   "cell_type": "code",
   "execution_count": 206,
   "id": "d5f4dfc8-3ef9-44cd-ad8f-69c9bef920ac",
   "metadata": {},
   "outputs": [],
   "source": [
    "# Remove method, removes the first occurence of a specified element\n",
    "# list_name.remove(elements_name)"
   ]
  },
  {
   "cell_type": "code",
   "execution_count": 207,
   "id": "5729ef5e-5708-4ba5-ada0-16b694d4d18c",
   "metadata": {},
   "outputs": [],
   "source": [
    "# print(Fruits)"
   ]
  },
  {
   "cell_type": "code",
   "execution_count": 208,
   "id": "ff062cd8-23c8-490a-962a-66fbc67507b3",
   "metadata": {},
   "outputs": [],
   "source": [
    "# Fruits.remove(\"Grapes\")\n",
    "# print(Fruits)"
   ]
  },
  {
   "cell_type": "code",
   "execution_count": 209,
   "id": "878a9ba7-bb24-4d4c-939f-40abafc48514",
   "metadata": {},
   "outputs": [],
   "source": [
    "# pop method, Remove and returns an element at a specified index.if no index is specified reomve and return the last element\n",
    "# defulat index last element , -1\n",
    "# list_name.pop()"
   ]
  },
  {
   "cell_type": "code",
   "execution_count": 210,
   "id": "ae2e2621-1796-4723-8914-d481c06bb784",
   "metadata": {},
   "outputs": [],
   "source": [
    "# print(Fruits)"
   ]
  },
  {
   "cell_type": "code",
   "execution_count": 211,
   "id": "d28d13e5-faf1-4bb5-a959-d86ffce9c6b7",
   "metadata": {},
   "outputs": [],
   "source": [
    "# Fruits.pop()\n",
    "# print(Fruits)"
   ]
  },
  {
   "cell_type": "code",
   "execution_count": 212,
   "id": "f3b8985c-5458-446a-bdeb-325c8d1f6994",
   "metadata": {},
   "outputs": [],
   "source": [
    "# Fruits.pop(1)\n",
    "# print(Fruits)"
   ]
  },
  {
   "cell_type": "code",
   "execution_count": 213,
   "id": "a2244994-91a4-419f-831d-ae886fa63d8c",
   "metadata": {},
   "outputs": [],
   "source": [
    "# clear method, Removes all elements from the list,resulting in an empty list\n",
    "# list_name.clear()"
   ]
  },
  {
   "cell_type": "code",
   "execution_count": 214,
   "id": "fb3df498-f9e3-4907-842b-94471cb6da5f",
   "metadata": {},
   "outputs": [],
   "source": [
    "# Fruits.clear()\n",
    "# print(Fruits)"
   ]
  },
  {
   "cell_type": "code",
   "execution_count": 215,
   "id": "bea9be38-9200-48c2-a929-218e837c2c8e",
   "metadata": {},
   "outputs": [],
   "source": [
    "# index method, Return the index of the first occurrence of a specified element, it means that showing the index number in the list of an element\n",
    "# list_name.index(element_name)"
   ]
  },
  {
   "cell_type": "code",
   "execution_count": 216,
   "id": "47035239-fb0c-4a9d-a899-9b6eb014caea",
   "metadata": {},
   "outputs": [],
   "source": [
    "# Fruits.index(\"Apple\")"
   ]
  },
  {
   "cell_type": "code",
   "execution_count": 217,
   "id": "dea1f465-19c8-4d91-a3e5-62707e44ad1c",
   "metadata": {},
   "outputs": [],
   "source": [
    "# count method,Returns the number of occurrences of a specified element in the lista and aslo noted down it must be asign an variable then show result\n",
    "# Naming_any_variable = list_name.count(element)"
   ]
  },
  {
   "cell_type": "code",
   "execution_count": 218,
   "id": "c7d3e675-46bf-4fc4-a220-c5e10a4c0d8a",
   "metadata": {},
   "outputs": [],
   "source": [
    "# print(Fruits)"
   ]
  },
  {
   "cell_type": "code",
   "execution_count": 184,
   "id": "f4904e96-e0b8-4f5b-ae13-6c766fa25936",
   "metadata": {},
   "outputs": [],
   "source": [
    "# count_list = Fruits.count(\"Grapes\")\n",
    "# print(count_list)"
   ]
  },
  {
   "cell_type": "code",
   "execution_count": 185,
   "id": "e33c6c3b-f162-4cca-854e-cf03f1e9dfa7",
   "metadata": {},
   "outputs": [],
   "source": [
    "# sort method, sorts the list in ascending order by default. you can also sort in descending order and specify custom sorting criteria.\n",
    "# list_name.sort()"
   ]
  },
  {
   "cell_type": "code",
   "execution_count": 2,
   "id": "a81e5bfd-d141-4d5b-a620-67343f38cc49",
   "metadata": {},
   "outputs": [],
   "source": [
    "# student_marks = [20,40,10,21,30,40,50,15,19]"
   ]
  },
  {
   "cell_type": "code",
   "execution_count": 187,
   "id": "e2fd6729-d1eb-412f-9671-f516eb722aaa",
   "metadata": {},
   "outputs": [],
   "source": [
    "# # ascending order\n",
    "# student_marks.sort()\n",
    "# print(student_marks)"
   ]
  },
  {
   "cell_type": "code",
   "execution_count": 188,
   "id": "1a5924e3-5276-4034-a40e-d042998d3834",
   "metadata": {},
   "outputs": [],
   "source": [
    "# # Descending order in case of numeric \n",
    "# student_marks.sort(reverse =True)\n",
    "# print(student_marks)"
   ]
  },
  {
   "cell_type": "code",
   "execution_count": 189,
   "id": "dd7441a4-9518-439d-bfd2-f9342a3390c1",
   "metadata": {},
   "outputs": [],
   "source": [
    "# # \n",
    "# Fruits.sort()\n",
    "# print(Fruits)"
   ]
  },
  {
   "cell_type": "code",
   "execution_count": 194,
   "id": "06de02ad-f2e5-4a52-be96-abcddb5df729",
   "metadata": {},
   "outputs": [],
   "source": [
    "# Fruits.sort(key=str.lower)\n",
    "# print(Fruits)  # output  ['Apple', 'apricat', 'Cherry', 'grapes', 'mango', 'watermelon'] "
   ]
  },
  {
   "cell_type": "code",
   "execution_count": 221,
   "id": "abe5d8af-7dd4-4a40-b29e-3a11139e828b",
   "metadata": {},
   "outputs": [],
   "source": [
    "# Fruits.sort(key=str.upper)\n",
    "# print(Fruits)"
   ]
  },
  {
   "cell_type": "code",
   "execution_count": 224,
   "id": "f138a22d-98db-4a36-8329-ea96fe2df628",
   "metadata": {},
   "outputs": [],
   "source": [
    "# Fruits.sort(key=len)\n",
    "# print(Fruits) # output ['Apple', 'mango', 'Cherry', 'grapes', 'apricat', 'watermelon']"
   ]
  },
  {
   "cell_type": "code",
   "execution_count": 229,
   "id": "27bdeca5-2ab7-4ba3-9bdb-6b28b20b6469",
   "metadata": {},
   "outputs": [],
   "source": [
    "# reverse method, Reveses the elements of the list in place."
   ]
  },
  {
   "cell_type": "code",
   "execution_count": 228,
   "id": "3dd5ae5d-587a-4e91-b90a-f9ac42c5fe6c",
   "metadata": {},
   "outputs": [],
   "source": [
    "# student_marks"
   ]
  },
  {
   "cell_type": "code",
   "execution_count": 230,
   "id": "e587b263-8358-4bdd-b336-f8c9e679ba5d",
   "metadata": {},
   "outputs": [],
   "source": [
    "# student_marks.reverse()\n",
    "# print(student_marks)"
   ]
  },
  {
   "cell_type": "code",
   "execution_count": 232,
   "id": "7dfdaedb-0fc5-4a07-adbc-44863152105c",
   "metadata": {},
   "outputs": [],
   "source": [
    "# copy method,Returns a shallow copy of the list\n",
    "#copy_list_name=list_name.copy()"
   ]
  },
  {
   "cell_type": "code",
   "execution_count": 239,
   "id": "cc9e7f91-19a7-4d22-9b82-a9d3023d7cb7",
   "metadata": {},
   "outputs": [],
   "source": [
    "# student_marks"
   ]
  },
  {
   "cell_type": "code",
   "execution_count": 240,
   "id": "6eaea4af-05c1-4d84-b3fc-449fd1473b13",
   "metadata": {},
   "outputs": [],
   "source": [
    "# # copy_student_marks=student_marks.copy()\n",
    "# print(copy_student_marks)\n",
    "# print(copy_student_marks)"
   ]
  },
  {
   "cell_type": "code",
   "execution_count": 241,
   "id": "44163d39-0d7f-4d1f-a6b5-ac9109099c03",
   "metadata": {},
   "outputs": [],
   "source": [
    "# # copying list- modifying the copy does not affect the original list\n",
    "# copy_student_marks.append(100)\n",
    "# print(copy_student_marks)\n",
    "# print(student_marks)"
   ]
  },
  {
   "cell_type": "markdown",
   "id": "0cf40589-8744-4d7b-9e1f-c0221d388bb1",
   "metadata": {
    "jp-MarkdownHeadingCollapsed": true
   },
   "source": [
    "# Join list"
   ]
  },
  {
   "cell_type": "code",
   "execution_count": 16,
   "id": "368e29b7-b8aa-480b-8fe3-3f3f61e404dd",
   "metadata": {},
   "outputs": [],
   "source": [
    "list1 = [20,40,60,60,70,]"
   ]
  },
  {
   "cell_type": "code",
   "execution_count": 17,
   "id": "01a88055-e237-4dc2-9530-038b6f9b1832",
   "metadata": {},
   "outputs": [],
   "source": [
    "list2 = [\"Eglish\",\"Maths\",\"Physcis\",\"Urdu\",\"Arabic\",\"Pak-study\"]"
   ]
  },
  {
   "cell_type": "code",
   "execution_count": 7,
   "id": "c9e87aa8-9e92-4951-8f74-2ad4633855d2",
   "metadata": {},
   "outputs": [],
   "source": [
    "# 01 First Method,Using + Operator\n",
    "# Final_list = list1 + list2\n",
    "# print(Final_list)\n",
    "# # output [20, 40, 60, 60, 70, 'Eglish', 'Maths', 'Physcis', 'Urdu', 'Arabic', 'Pak-study']"
   ]
  },
  {
   "cell_type": "code",
   "execution_count": 1,
   "id": "4c9e42e7-f6f6-4894-b2de-d72f01a5f886",
   "metadata": {},
   "outputs": [],
   "source": [
    "# 02,append method, In this case we use for Loop\n"
   ]
  },
  {
   "cell_type": "code",
   "execution_count": 6,
   "id": "eb901f9d-a0a8-4512-ad72-1c9779b6239d",
   "metadata": {},
   "outputs": [],
   "source": [
    "# for x in list1:\n",
    "#     list2.append(x)\n",
    "# print(list2) # output ['Eglish', 'Maths', 'Physcis', 'Urdu', 'Arabic', 'Pak-study', 20, 40, 60, 60, 70]"
   ]
  },
  {
   "cell_type": "code",
   "execution_count": 19,
   "id": "791d6ce7-2d8f-47d0-88a9-7092618127c2",
   "metadata": {},
   "outputs": [],
   "source": [
    "# # 03, extend method,In case we can join two lists\n",
    "# list2.extend(list1)\n",
    "# print(list2)\n",
    "# # output ['Eglish', 'Maths', 'Physcis', 'Urdu', 'Arabic', 'Pak-study', 20, 40, 60, 60, 70]"
   ]
  },
  {
   "cell_type": "markdown",
   "id": "33e3253d-7b6d-44a9-aa8e-7bc6a24a6512",
   "metadata": {},
   "source": [
    "# List Comprehensions"
   ]
  },
  {
   "cell_type": "code",
   "execution_count": 29,
   "id": "c85735ea-5f81-4a06-be87-8bfb4814f1f3",
   "metadata": {},
   "outputs": [],
   "source": [
    "# new_list = [expression for item in iterable if condition] \n",
    "# 3 main companent list comprehensions\n",
    "# Expression,For Clasue, if condition"
   ]
  },
  {
   "cell_type": "code",
   "execution_count": 28,
   "id": "d043870a-af0d-4897-a82e-439321ab96dd",
   "metadata": {},
   "outputs": [],
   "source": [
    "# Create a list of Squares\n",
    "# Squares = [x**2 for x in range (1,6) ]\n",
    "# print(Squares)   # # output [1, 4, 9, 16, 25]"
   ]
  },
  {
   "cell_type": "code",
   "execution_count": 34,
   "id": "08a3ce99-effb-4e50-912f-353513408a8b",
   "metadata": {},
   "outputs": [],
   "source": [
    "# # Filter an even number\n",
    "# even_list = [X for X in range (1,12) if X%2 == 0]\n",
    "# print(even_list) # output [2, 4, 6, 8, 10]"
   ]
  },
  {
   "cell_type": "code",
   "execution_count": null,
   "id": "5986a419-611b-46cf-a8db-0917edcfcd82",
   "metadata": {},
   "outputs": [],
   "source": []
  }
 ],
 "metadata": {
  "kernelspec": {
   "display_name": "Python 3 (ipykernel)",
   "language": "python",
   "name": "python3"
  },
  "language_info": {
   "codemirror_mode": {
    "name": "ipython",
    "version": 3
   },
   "file_extension": ".py",
   "mimetype": "text/x-python",
   "name": "python",
   "nbconvert_exporter": "python",
   "pygments_lexer": "ipython3",
   "version": "3.13.7"
  }
 },
 "nbformat": 4,
 "nbformat_minor": 5
}
