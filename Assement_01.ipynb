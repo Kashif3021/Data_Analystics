{
 "cells": [
  {
   "cell_type": "markdown",
   "id": "30a2c4ea-1b9c-4c93-b7cd-cfbf73855e62",
   "metadata": {},
   "source": [
    "Write a Python programm to print the following string in a specific format(see the output)"
   ]
  },
  {
   "cell_type": "code",
   "execution_count": 1,
   "id": "83c3d534-57c6-4fcc-ad22-7c5d979e619a",
   "metadata": {},
   "outputs": [],
   "source": [
    "Tripple_qutoes= \"\"\"\n",
    "                    Twinkle,Twinkle,star\n",
    "                        how I wonder what you are!\n",
    "                               Up above the world so high,\n",
    "                               like a diamond in the sky.\n",
    "                    Twinkle,twinkle, little star,\n",
    "                            how I wonder what you are \"\"\""
   ]
  },
  {
   "cell_type": "code",
   "execution_count": 3,
   "id": "7be47b6a-465f-465b-944d-5f620352692c",
   "metadata": {},
   "outputs": [
    {
     "name": "stdout",
     "output_type": "stream",
     "text": [
      "\n",
      "                    Twinkle,Twinkle,star\n",
      "                        how I wonder what you are!\n",
      "                               Up above the world so high,\n",
      "                               like a diamond in the sky.\n",
      "                    Twinkle,twinkle, little star,\n",
      "                            how I wonder what you are \n"
     ]
    }
   ],
   "source": [
    "print(Tripple_qutoes)"
   ]
  },
  {
   "cell_type": "code",
   "execution_count": null,
   "id": "19f2a2c8-9d0a-4b24-85a4-4e0aa9dd4967",
   "metadata": {},
   "outputs": [],
   "source": []
  }
 ],
 "metadata": {
  "kernelspec": {
   "display_name": "Python 3 (ipykernel)",
   "language": "python",
   "name": "python3"
  },
  "language_info": {
   "codemirror_mode": {
    "name": "ipython",
    "version": 3
   },
   "file_extension": ".py",
   "mimetype": "text/x-python",
   "name": "python",
   "nbconvert_exporter": "python",
   "pygments_lexer": "ipython3",
   "version": "3.13.5"
  }
 },
 "nbformat": 4,
 "nbformat_minor": 5
}
