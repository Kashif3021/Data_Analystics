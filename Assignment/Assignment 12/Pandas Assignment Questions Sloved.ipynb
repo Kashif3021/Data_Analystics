{
 "cells": [
  {
   "cell_type": "markdown",
   "id": "c1581a5b-511d-4966-a06d-f74774849945",
   "metadata": {},
   "source": [
    "### 1- Find record if Sales greater than 500 and Quantity greater than 5?"
   ]
  },
  {
   "cell_type": "code",
   "execution_count": null,
   "id": "c447df28-08b0-44f0-b966-d0ec3f51f930",
   "metadata": {},
   "outputs": [],
   "source": []
  }
 ],
 "metadata": {
  "kernelspec": {
   "display_name": "Python 3 (ipykernel)",
   "language": "python",
   "name": "python3"
  },
  "language_info": {
   "codemirror_mode": {
    "name": "ipython",
    "version": 3
   },
   "file_extension": ".py",
   "mimetype": "text/x-python",
   "name": "python",
   "nbconvert_exporter": "python",
   "pygments_lexer": "ipython3",
   "version": "3.13.7"
  }
 },
 "nbformat": 4,
 "nbformat_minor": 5
}
