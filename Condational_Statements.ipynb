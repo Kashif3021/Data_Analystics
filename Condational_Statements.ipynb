{
 "cells": [
  {
   "cell_type": "markdown",
   "id": "4967646e-c9f7-464a-a94a-cd48440cbdfd",
   "metadata": {},
   "source": [
    "1.If Statement # Only one condation if ture then execute code "
   ]
  },
  {
   "cell_type": "code",
   "execution_count": 12,
   "id": "dc747278-8fb5-41fa-9e69-fee52ca64eef",
   "metadata": {},
   "outputs": [],
   "source": [
    "# age =int(input(\"What is your age \"))\n",
    "# if age>=18:\n",
    "#     print(\"your are an adult\")"
   ]
  },
  {
   "cell_type": "markdown",
   "id": "65147d95-2512-40be-ac54-7015fe64891d",
   "metadata": {},
   "source": [
    "2.Write a program that a student obaianed marks enter the user's and find out ther result pass."
   ]
  },
  {
   "cell_type": "markdown",
   "id": "c634c190-f07f-4234-aa0e-57180aac692a",
   "metadata": {},
   "source": [
    "if-else statement"
   ]
  },
  {
   "cell_type": "code",
   "execution_count": 11,
   "id": "5c00b337-6d8e-43e4-ab33-af3da1f9e5e3",
   "metadata": {},
   "outputs": [
    {
     "name": "stdin",
     "output_type": "stream",
     "text": [
      "Enter you are obtained marks 80\n"
     ]
    },
    {
     "name": "stdout",
     "output_type": "stream",
     "text": [
      "you are passed exam\n"
     ]
    }
   ],
   "source": [
    "# # 2.Write a program that a student obaianed marks enter the user's and find out ther result pass.\n",
    "# obtained_marks = float(input(\"Enter you are obtained marks\"))\n",
    "# if obtained_marks>=34:\n",
    "#     print(\"you are passed exam\")\n",
    "# else:\n",
    "#     print(\"try again\")"
   ]
  },
  {
   "cell_type": "code",
   "execution_count": 14,
   "id": "718b9d68-0f9d-4f5b-b684-a490ec2c7519",
   "metadata": {},
   "outputs": [
    {
     "name": "stdout",
     "output_type": "stream",
     "text": [
      "it is hot day.\n"
     ]
    }
   ],
   "source": [
    "temp=60\n",
    "if temp<=25:\n",
    "    print(\"It is cool day\")\n",
    "else:\n",
    "    print(\"it is hot day.\")"
   ]
  },
  {
   "cell_type": "markdown",
   "id": "6ea5d6e2-e10d-4327-b129-657e7ccb31e2",
   "metadata": {},
   "source": [
    "if-elif-else statements"
   ]
  },
  {
   "cell_type": "code",
   "execution_count": 19,
   "id": "f1acbe99-0492-4dc4-b8e9-eae2afc1442d",
   "metadata": {},
   "outputs": [],
   "source": [
    "# score=int(input(\"Enter your total marks :\"))\n",
    "# if score>=90:\n",
    "#     print(\"You are Grade A+\")\n",
    "# elif score>=80:\n",
    "#     print(\"You are Grade B+\")\n",
    "# elif score>=70:\n",
    "#     print(\"youare Grade C\")\n",
    "# else:\n",
    "#     (\"You are Grade C\")"
   ]
  },
  {
   "cell_type": "markdown",
   "id": "363c85b5-184b-44b8-bf17-514fa907580f",
   "metadata": {},
   "source": [
    "# 3=4.nested if statement\n",
    "# if-else inside if-else Statement\n",
    "# multiple conditions depends on each\n",
    "# Positive,Negative & Zero.Positive even/odd"
   ]
  },
  {
   "cell_type": "code",
   "execution_count": 24,
   "id": "aeb0b6b0-63d3-4b38-99b7-9dc7448edf2f",
   "metadata": {},
   "outputs": [
    {
     "name": "stdin",
     "output_type": "stream",
     "text": [
      "Enter a Number 33\n"
     ]
    }
   ],
   "source": [
    "number=int(input(\"Enter a Number\"))"
   ]
  },
  {
   "cell_type": "code",
   "execution_count": 26,
   "id": "e226f192-0c7e-409d-a75f-2359a273769d",
   "metadata": {},
   "outputs": [
    {
     "name": "stdin",
     "output_type": "stream",
     "text": [
      "Enter a Number 31\n"
     ]
    },
    {
     "name": "stdout",
     "output_type": "stream",
     "text": [
      "this is odd number\n"
     ]
    }
   ],
   "source": [
    "number=int(input(\"Enter a Number\"))\n",
    "if number > 0: # first checking positive number\n",
    "   if number% 2 ==0: # Checking even or odd number\n",
    "        print(\"This even number\")\n",
    "   else:\n",
    "        print(\"this is odd number\")\n",
    "else:\n",
    "    if number ==0:  #checking Zero or negative number\n",
    "        print(\"This is Zero Number\")\n",
    "    else:\n",
    "        print(\"This is negative number\")\n"
   ]
  },
  {
   "cell_type": "code",
   "execution_count": null,
   "id": "be018d6f-e883-4510-95f2-8e52da918808",
   "metadata": {},
   "outputs": [],
   "source": []
  }
 ],
 "metadata": {
  "kernelspec": {
   "display_name": "Python 3 (ipykernel)",
   "language": "python",
   "name": "python3"
  },
  "language_info": {
   "codemirror_mode": {
    "name": "ipython",
    "version": 3
   },
   "file_extension": ".py",
   "mimetype": "text/x-python",
   "name": "python",
   "nbconvert_exporter": "python",
   "pygments_lexer": "ipython3",
   "version": "3.13.7"
  }
 },
 "nbformat": 4,
 "nbformat_minor": 5
}
