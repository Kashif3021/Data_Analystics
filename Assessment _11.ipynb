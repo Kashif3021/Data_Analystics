{
 "cells": [
  {
   "cell_type": "code",
   "execution_count": 20,
   "id": "4589b4dc-25ad-45d1-8de6-4bfa268ebfc6",
   "metadata": {},
   "outputs": [],
   "source": [
    "import pandas as pd"
   ]
  },
  {
   "cell_type": "code",
   "execution_count": 28,
   "id": "259a61a6-3ba7-4454-8ed7-443ea6cfe2e8",
   "metadata": {},
   "outputs": [],
   "source": [
    "# dir(pd)"
   ]
  },
  {
   "cell_type": "code",
   "execution_count": 45,
   "id": "3c9929f8-4d7b-479e-ac31-d7c698cdcc54",
   "metadata": {},
   "outputs": [],
   "source": [
    "df = pd.read_csv (\"student data.csv\")"
   ]
  },
  {
   "cell_type": "code",
   "execution_count": 50,
   "id": "d34976fc-3c86-44ef-ae5e-ca308ceadda9",
   "metadata": {},
   "outputs": [],
   "source": [
    "# print(df)"
   ]
  },
  {
   "cell_type": "code",
   "execution_count": 51,
   "id": "a65870fe-cdf6-45e5-9480-b4ae4fed904a",
   "metadata": {},
   "outputs": [
    {
     "name": "stdout",
     "output_type": "stream",
     "text": [
      "<class 'pandas.core.frame.DataFrame'>\n",
      "RangeIndex: 50 entries, 0 to 49\n",
      "Data columns (total 8 columns):\n",
      " #   Column      Non-Null Count  Dtype  \n",
      "---  ------      --------------  -----  \n",
      " 0   roll no     50 non-null     int64  \n",
      " 1   Name        50 non-null     object \n",
      " 2   Chemistry   50 non-null     int64  \n",
      " 3   Physics     50 non-null     int64  \n",
      " 4   Math        50 non-null     int64  \n",
      " 5   total       50 non-null     int64  \n",
      " 6   Percentage  50 non-null     float64\n",
      " 7   Grade       50 non-null     object \n",
      "dtypes: float64(1), int64(5), object(2)\n",
      "memory usage: 3.3+ KB\n"
     ]
    }
   ],
   "source": [
    "df.info()"
   ]
  },
  {
   "cell_type": "code",
   "execution_count": 30,
   "id": "abef7d1e-9184-4d39-8d9b-054bdc05c134",
   "metadata": {},
   "outputs": [],
   "source": [
    "# now we use find grade"
   ]
  },
  {
   "cell_type": "code",
   "execution_count": 52,
   "id": "c44423c0-4e9b-4122-9a9e-832b21ced974",
   "metadata": {},
   "outputs": [
    {
     "name": "stdout",
     "output_type": "stream",
     "text": [
      "    roll no       Name  Chemistry  Physics  Math  total  Percentage Grade\n",
      "0       101      Aliza         50       23    87    160   53.333333     D\n",
      "1       102     Fareed         45       24    88    157   52.333333     D\n",
      "2       103      Basit         46       25    89    160   53.333333     D\n",
      "3       104   Abdullah         47       26    90    163   54.333333     D\n",
      "4       105        Ali         48       27    67    142   47.333333     F\n",
      "5       106   Mubashir         49       28    68    145   48.333333     F\n",
      "6       107     Waleed         50       29    69    148   49.333333     F\n",
      "7       108    Mansoor         51       30    70    151   50.333333     D\n",
      "8       109       Zain         52       31    71    154   51.333333     D\n",
      "9       110     Mohsin         53       67    72    192   64.000000     C\n",
      "10      111   Shahmeer         54       68    73    195   65.000000     C\n",
      "11      112        Rao         55       69    74    198   66.000000     C\n",
      "12      113  Aurangzeb         56       70    75    201   67.000000     C\n",
      "13      114    Zeeshan         57       71    76    204   68.000000     C\n",
      "14      115      Hamna         58       72    77    207   69.000000     C\n",
      "15      116      Hamza         59       73    78    210   70.000000     B\n",
      "16      117     Khalid         60       74    79    213   71.000000     B\n",
      "17      118     Behroz         61       75    80    216   72.000000     B\n",
      "18      119     Justin         62       76    81    219   73.000000     B\n",
      "19      120     Danish         63       77    82    222   74.000000     B\n",
      "20      121     Kainat         64       78    83    225   75.000000     B\n",
      "21      122     Sameer         65       79    84    228   76.000000     B\n",
      "22      123       Raza         66       80    85    231   77.000000     B\n",
      "23      124      Kumar         67       81    86    234   78.000000     B\n",
      "24      125      Komal         68       82    87    237   79.000000     B\n",
      "25      126       Erum         69       83    88    240   80.000000     A\n",
      "26      127      Faiza         70       84    89    243   81.000000     A\n",
      "27      128      Saeed         71       85    90    246   82.000000     A\n",
      "28      129      Waqar         72       86    91    249   83.000000     A\n",
      "29      130       Wali         73       87    92    252   84.000000     A\n",
      "30      131      Wajid         74       88    93    255   85.000000     A\n",
      "31      132     Waseeb         75       89    94    258   86.000000     A\n",
      "32      133      Shiza         76       90    95    261   87.000000     A\n",
      "33      134    Shabina         77       91    96    264   88.000000     A\n",
      "34      135    Shazain         78       55    97    230   76.666667     B\n",
      "35      136      Lubna         79       61    98    238   79.333333     B\n",
      "36      137      Laiba         80       88    78    246   82.000000     A\n",
      "37      138  Khursheed         81       56    45    182   60.666667     C\n",
      "38      139        Ali         82       89    46    217   72.333333     B\n",
      "39      140       Aiza         83       45    89    217   72.333333     B\n",
      "40      141      Aiman         84       92    78    254   84.666667     A\n",
      "41      142    Yasmeen         85       36    56    177   59.000000     D\n",
      "42      143    Tasbeel         86       78    78    242   80.666667     A\n",
      "43      144     Laraib         87       56    54    197   65.666667     C\n",
      "44      145     Saleem         88       78    78    244   81.333333     A\n",
      "45      146     Bismil         89       89    46    224   74.666667     B\n",
      "46      147     Batool         90       56    79    225   75.000000     B\n",
      "47      148       Iqra         91       33    46    170   56.666667     D\n",
      "48      149    Zarnish         92       78    45    215   71.666667     B\n",
      "49      150       Zara         83       45    56    184   61.333333     C\n"
     ]
    }
   ],
   "source": [
    "def assign_grade(Percentage):\n",
    "    if Percentage >= 80:\n",
    "        return 'A'\n",
    "    elif Percentage >= 70:\n",
    "        return 'B'\n",
    "    elif Percentage >= 60:\n",
    "        return 'C'\n",
    "    elif Percentage >= 50:\n",
    "        return 'D'\n",
    "    else:\n",
    "         return 'F'\n",
    "df['Grade'] = df['Percentage'].apply(assign_grade)\n",
    "print(df)"
   ]
  },
  {
   "cell_type": "code",
   "execution_count": null,
   "id": "5c662501-5b7a-4c51-a074-da721293407a",
   "metadata": {},
   "outputs": [],
   "source": []
  }
 ],
 "metadata": {
  "kernelspec": {
   "display_name": "Python 3 (ipykernel)",
   "language": "python",
   "name": "python3"
  },
  "language_info": {
   "codemirror_mode": {
    "name": "ipython",
    "version": 3
   },
   "file_extension": ".py",
   "mimetype": "text/x-python",
   "name": "python",
   "nbconvert_exporter": "python",
   "pygments_lexer": "ipython3",
   "version": "3.13.7"
  }
 },
 "nbformat": 4,
 "nbformat_minor": 5
}
