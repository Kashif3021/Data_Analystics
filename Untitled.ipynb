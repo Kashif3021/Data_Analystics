{
 "cells": [
  {
   "cell_type": "code",
   "execution_count": 1,
   "id": "3523caba-ef0d-405b-9eb4-8a791917199c",
   "metadata": {},
   "outputs": [],
   "source": [
    "X = 5"
   ]
  },
  {
   "cell_type": "code",
   "execution_count": 2,
   "id": "e56d11af-68ea-4395-8e6e-dc9af217942c",
   "metadata": {},
   "outputs": [],
   "source": [
    "Y = 10"
   ]
  },
  {
   "cell_type": "code",
   "execution_count": 3,
   "id": "5532d083-4791-4cec-ab5e-01e47995374e",
   "metadata": {},
   "outputs": [],
   "source": [
    "Z = X > Y or X and Y"
   ]
  },
  {
   "cell_type": "code",
   "execution_count": 4,
   "id": "d23aadcd-3e24-48b6-8f3d-3ee95f5e0c79",
   "metadata": {},
   "outputs": [
    {
     "name": "stdout",
     "output_type": "stream",
     "text": [
      "10\n"
     ]
    }
   ],
   "source": [
    "print(Z)"
   ]
  },
  {
   "cell_type": "code",
   "execution_count": null,
   "id": "5544f412-cb3e-45b4-b34d-88098212be3c",
   "metadata": {},
   "outputs": [],
   "source": []
  }
 ],
 "metadata": {
  "kernelspec": {
   "display_name": "Python 3 (ipykernel)",
   "language": "python",
   "name": "python3"
  },
  "language_info": {
   "codemirror_mode": {
    "name": "ipython",
    "version": 3
   },
   "file_extension": ".py",
   "mimetype": "text/x-python",
   "name": "python",
   "nbconvert_exporter": "python",
   "pygments_lexer": "ipython3",
   "version": "3.13.7"
  }
 },
 "nbformat": 4,
 "nbformat_minor": 5
}
