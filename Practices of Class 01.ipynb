{
 "cells": [
  {
   "cell_type": "markdown",
   "id": "b526ad90-64f4-47e9-b940-497d6a4cbc41",
   "metadata": {},
   "source": [
    "Basics of Python"
   ]
  },
  {
   "cell_type": "markdown",
   "id": "1d2359ec-688f-4a7b-87f3-e1b7330ea502",
   "metadata": {},
   "source": [
    "Data Types "
   ]
  },
  {
   "cell_type": "code",
   "execution_count": 1,
   "id": "d1a6dcd1-3811-4d1e-abd2-a74eb1937f11",
   "metadata": {},
   "outputs": [],
   "source": [
    "# print( \"Hello\")"
   ]
  },
  {
   "cell_type": "code",
   "execution_count": 2,
   "id": "00a36247-11d3-4976-a756-d8798f75f6b1",
   "metadata": {},
   "outputs": [],
   "source": [
    "# print(4000)  # This is integer type of data (whole number) and aslo note down it denoted by (int)"
   ]
  },
  {
   "cell_type": "code",
   "execution_count": 3,
   "id": "8e6a3f81-52bc-4fb3-be73-24824a608bdf",
   "metadata": {},
   "outputs": [],
   "source": [
    "# print(2.45) # This is float type of data (having deciamal point )"
   ]
  },
  {
   "cell_type": "code",
   "execution_count": 4,
   "id": "f71d5a3f-55b2-4f2a-9e10-c5be87591ca9",
   "metadata": {},
   "outputs": [],
   "source": [
    "# print(\" I am Data Analyst\") # This is String  type of data (whole number) and aslo note down it denoted by (str)"
   ]
  },
  {
   "cell_type": "code",
   "execution_count": 6,
   "id": "8d8ecff3-9665-4513-b657-be0f2f8721ba",
   "metadata": {},
   "outputs": [],
   "source": [
    "# print(\"I'm Alia\")"
   ]
  },
  {
   "cell_type": "code",
   "execution_count": 7,
   "id": "d6116d56-131e-4502-ab03-75414dbdc9e7",
   "metadata": {},
   "outputs": [],
   "source": [
    "# print(' \"The Art of Grammar.\"')"
   ]
  },
  {
   "cell_type": "markdown",
   "id": "bd400636-4d4b-40c4-917a-258fc0ee4544",
   "metadata": {},
   "source": [
    "How to check data type"
   ]
  },
  {
   "cell_type": "code",
   "execution_count": 38,
   "id": "7fb9f0ad-d491-4455-be60-2a3a9fdbb696",
   "metadata": {},
   "outputs": [],
   "source": [
    "# print(1997)"
   ]
  },
  {
   "cell_type": "code",
   "execution_count": 37,
   "id": "388931bb-ad2e-4fa7-a15a-8af50e580b8e",
   "metadata": {},
   "outputs": [],
   "source": [
    "# print(type(1997))"
   ]
  },
  {
   "cell_type": "code",
   "execution_count": 36,
   "id": "b9b551ef-6d1e-4e51-893d-d0f0c84057a7",
   "metadata": {},
   "outputs": [],
   "source": [
    "# print(\"My name is Muhammad Khashif\")"
   ]
  },
  {
   "cell_type": "code",
   "execution_count": 35,
   "id": "6daf7fda-8bde-48b0-bb8f-d047990ac658",
   "metadata": {},
   "outputs": [],
   "source": [
    "# print(type(\"My name is Muhammad Kashif\"))"
   ]
  },
  {
   "cell_type": "code",
   "execution_count": 34,
   "id": "0aaa317c-af3b-4b17-8f13-0e84e16165f5",
   "metadata": {},
   "outputs": [],
   "source": [
    "# weight_of_apple = 2.5 "
   ]
  },
  {
   "cell_type": "code",
   "execution_count": 33,
   "id": "108f94fc-6a65-4775-8700-eb76b097a32b",
   "metadata": {},
   "outputs": [],
   "source": [
    "# print(type(weight_of_apple))"
   ]
  },
  {
   "cell_type": "code",
   "execution_count": 31,
   "id": "c7be9259-9c1a-416a-9d0f-10b2206a13ba",
   "metadata": {},
   "outputs": [],
   "source": [
    "# num1=input(\"Enter first Number\") \n",
    "# num2=input(\"Enter Second Number\")\n",
    "# # print(num1+num2) # we see that the result is incorrect becuae we want to sum but just Concatate them,So that why we need type casting \n",
    "# # first we convert data type \n",
    "# Convert_num1=int(num1)\n",
    "# Convert_num2=int(num2)\n",
    "# print(Convert_num1+Convert_num2)"
   ]
  },
  {
   "cell_type": "code",
   "execution_count": 32,
   "id": "4f73e066-76b4-48b3-84d8-93f66a8d2ccc",
   "metadata": {},
   "outputs": [],
   "source": [
    "# num1=int(input(\"Einter first Number\"))\n",
    "# num2=int(input(\"Enter Second Number\"))\n",
    "# print(num1+num2)"
   ]
  },
  {
   "cell_type": "code",
   "execution_count": null,
   "id": "3b7467e7-f10b-4982-8577-a10b5cbfcaed",
   "metadata": {},
   "outputs": [],
   "source": []
  }
 ],
 "metadata": {
  "kernelspec": {
   "display_name": "Python 3 (ipykernel)",
   "language": "python",
   "name": "python3"
  },
  "language_info": {
   "codemirror_mode": {
    "name": "ipython",
    "version": 3
   },
   "file_extension": ".py",
   "mimetype": "text/x-python",
   "name": "python",
   "nbconvert_exporter": "python",
   "pygments_lexer": "ipython3",
   "version": "3.13.5"
  }
 },
 "nbformat": 4,
 "nbformat_minor": 5
}
