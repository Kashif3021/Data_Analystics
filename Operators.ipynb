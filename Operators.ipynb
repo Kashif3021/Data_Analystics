{
 "cells": [
  {
   "cell_type": "markdown",
   "id": "e7c32a23-f16d-4c92-99ea-f3f0f8a0420f",
   "metadata": {},
   "source": [
    "Operators "
   ]
  },
  {
   "cell_type": "markdown",
   "id": "cb1e5283-be67-443c-a0e2-c2add2dac23a",
   "metadata": {},
   "source": [
    "Arithmetic Operators"
   ]
  },
  {
   "cell_type": "markdown",
   "id": "461bca2a-5794-4f2d-88ca-b1c32c727652",
   "metadata": {},
   "source": [
    "Addation "
   ]
  },
  {
   "cell_type": "code",
   "execution_count": 7,
   "id": "808d9649-da9e-4511-a805-35629c1eeb15",
   "metadata": {},
   "outputs": [],
   "source": [
    "# A = 10 \n",
    "# b = 20 \n",
    "# sum = A + b\n",
    "# print(\" The sum of A and B is : \",sum)"
   ]
  },
  {
   "cell_type": "markdown",
   "id": "4fd737c4-a7b2-4af1-a618-8f430b762d41",
   "metadata": {},
   "source": [
    "Substraction "
   ]
  },
  {
   "cell_type": "code",
   "execution_count": 12,
   "id": "2164e728-b17a-458d-8269-548d5218b11b",
   "metadata": {},
   "outputs": [],
   "source": [
    "# A = 30 \n",
    "# B = 40 \n",
    "# Substraction = B - A\n",
    "# print(\"The Substraction of B  from A is :\",Substraction)"
   ]
  },
  {
   "cell_type": "code",
   "execution_count": 14,
   "id": "11432784-a31d-4aea-8e99-256eef801b96",
   "metadata": {},
   "outputs": [],
   "source": [
    "# A = 30 \n",
    "# B = 40 \n",
    "# Multiplication = A*B\n",
    "# print(\"The Multiplication of A into B  is :\",Multiplication)"
   ]
  },
  {
   "cell_type": "code",
   "execution_count": 16,
   "id": "9654f8d2-4f63-467e-9f5c-a892955ede36",
   "metadata": {},
   "outputs": [],
   "source": [
    "# A = 30 \n",
    "# B = 40 \n",
    "# Division = A/B\n",
    "# print(\"The Division of A by B  is :\",Division)"
   ]
  },
  {
   "cell_type": "code",
   "execution_count": 5,
   "id": "d44d0e18-f479-45cd-b3ad-7bbbc63c773b",
   "metadata": {},
   "outputs": [],
   "source": [
    "# A = 65\n",
    "# B = 40 \n",
    "# F_Division = A//B\n",
    "# print(\"The Floor Division of A by B  is :\",F_Division)"
   ]
  },
  {
   "cell_type": "code",
   "execution_count": 10,
   "id": "0a6a0cdf-0302-48b1-8445-c5d0402421a6",
   "metadata": {},
   "outputs": [],
   "source": [
    "# A = 85\n",
    "# B = 30 \n",
    "# modulus= A%B\n",
    "# print(\"The Modulus of A by B  is :\",modulus)"
   ]
  },
  {
   "cell_type": "markdown",
   "id": "9a226a55-fd3b-4770-b45c-0e2106c0979f",
   "metadata": {},
   "source": [
    "Comparison (Reational) Operator"
   ]
  },
  {
   "cell_type": "code",
   "execution_count": 14,
   "id": "8aa33ad4-4dfe-4e98-8b07-1dd6de555e41",
   "metadata": {},
   "outputs": [],
   "source": [
    "# A = 85\n",
    "# B = 30 \n",
    "# result= A>B # greater than operator\n",
    "# print(\"The Result of A and B  is :\",result)"
   ]
  },
  {
   "cell_type": "code",
   "execution_count": 16,
   "id": "1ea9c975-4d3a-4057-8889-7236e6082967",
   "metadata": {},
   "outputs": [],
   "source": [
    "# A = 85\n",
    "# B = 30 \n",
    "# result= A<B #Less than operator\n",
    "# print(\"The Result of A and B  is :\",result)"
   ]
  },
  {
   "cell_type": "code",
   "execution_count": 17,
   "id": "0c6171de-8fbb-4735-8888-4974da6eda2c",
   "metadata": {},
   "outputs": [],
   "source": [
    "# A = 85\n",
    "# B = 30 \n",
    "# result= A<B #Less than operator\n",
    "# print(\"The Result of A and B  is :\",result)"
   ]
  },
  {
   "cell_type": "code",
   "execution_count": 20,
   "id": "68355f2e-6088-41c6-b148-762775d0c0ae",
   "metadata": {},
   "outputs": [],
   "source": [
    "# A = 85\n",
    "# B = 30 \n",
    "# result= A==B #Equal to  operator\n",
    "# print(\"The Result of A and B  is :\",result)"
   ]
  },
  {
   "cell_type": "code",
   "execution_count": 21,
   "id": "5ba88beb-aa00-4aa1-a90e-b872b297cc0b",
   "metadata": {},
   "outputs": [
    {
     "name": "stdout",
     "output_type": "stream",
     "text": [
      "The Result of A and B  is : False\n"
     ]
    }
   ],
   "source": [
    " # A = 85\n",
    " # B = 30 \n",
    " # result= A<=B #Less than or equalto operator\n",
    " # print(\"The Result of A and B  is :\",result)"
   ]
  },
  {
   "cell_type": "markdown",
   "id": "b65b73fe-cb61-43be-846f-920b6e7bae24",
   "metadata": {},
   "source": [
    " A = 85\n",
    " B = 30 \n",
    " result= A>=B #Grater than or equalto operator\n",
    " print(\"The Result of A and B  is :\",result)"
   ]
  },
  {
   "cell_type": "code",
   "execution_count": 23,
   "id": "e28f0a06-6013-4c66-80e9-a9caaf2a649a",
   "metadata": {},
   "outputs": [
    {
     "name": "stdout",
     "output_type": "stream",
     "text": [
      "The Result of A and B  is : True\n"
     ]
    }
   ],
   "source": [
    " # A = 85\n",
    " # B = 30 \n",
    " # result= A>=B #Grater than or equalto operator\n",
    " # print(\"The Result of A and B  is :\",result)"
   ]
  },
  {
   "cell_type": "code",
   "execution_count": 25,
   "id": "9dc1ec4c-9bd5-4278-8363-ac423b48941e",
   "metadata": {},
   "outputs": [],
   "source": [
    " # A = 85\n",
    " # B = 30 \n",
    " # result= A!=B # not equalto operator\n",
    " # print(\"The Result of A and B  is :\",result)"
   ]
  },
  {
   "cell_type": "markdown",
   "id": "7b477f4f-69f4-4723-8a8b-9ce7a96c3083",
   "metadata": {},
   "source": [
    "Logical Operator "
   ]
  },
  {
   "cell_type": "code",
   "execution_count": 27,
   "id": "98e2a935-1ee0-4785-b685-949582b65ed0",
   "metadata": {},
   "outputs": [],
   "source": [
    "# Rules of and Operator \n",
    "# 1.Ture + ture   = True\n",
    "# 2.True + Fasle  = False\n",
    "# 3.Fasle + fasle = Fasle "
   ]
  },
  {
   "cell_type": "code",
   "execution_count": 31,
   "id": "2162a88e-e2ff-4ba3-94c6-b0cf97fc2800",
   "metadata": {},
   "outputs": [],
   "source": [
    "#  A = 85\n",
    "#  B = 30 \n",
    "# result= A>10 and B<40 # \"and\" operator\n",
    "# print(\"The Result of A and B  is :\",result)"
   ]
  },
  {
   "cell_type": "code",
   "execution_count": 1,
   "id": "eb39fbe6-7fd6-4853-a59d-ec922ee17b1a",
   "metadata": {},
   "outputs": [],
   "source": [
    "#  A = 85\n",
    "#  B = 30 \n",
    "# result = A>10 and B<20 # \"and\" operator\n",
    "# print(\"The Result of A and B  is :\",result)"
   ]
  },
  {
   "cell_type": "code",
   "execution_count": 2,
   "id": "548b593d-68d5-49f7-9a39-0d2e41f0bae4",
   "metadata": {},
   "outputs": [],
   "source": [
    "#  A = 85\n",
    "#  B = 30 \n",
    "# result= A>90 and B<10 # \"and\" operator\n",
    "# print(\"The Result of A and B  is :\",result)"
   ]
  },
  {
   "cell_type": "code",
   "execution_count": 5,
   "id": "425715f9-a695-4b33-92bf-1acff06de54a",
   "metadata": {},
   "outputs": [],
   "source": [
    "#  A = 85\n",
    "#  B = 30 \n",
    "# result= A>75 or B<10 # \"or\" operator\n",
    "# print(\"The Result of A and B  is :\",result)"
   ]
  },
  {
   "cell_type": "code",
   "execution_count": 10,
   "id": "73e512a4-1e9f-4cc4-ac1b-dbe141751175",
   "metadata": {},
   "outputs": [],
   "source": [
    "#  A = 85\n",
    "#  B = 30 \n",
    "# result= A>70 or B<35 # \"or\" operator\n",
    "# print(\"The Result of A and B  is :\",result)"
   ]
  },
  {
   "cell_type": "code",
   "execution_count": 12,
   "id": "342dc52e-d0be-4903-ac6d-128df43aded7",
   "metadata": {},
   "outputs": [],
   "source": [
    "#  A = 85\n",
    "#  B = 30 \n",
    "# result= A>90 or B<25 # \"or\" operator\n",
    "#  print(\"The Result of A and B  is :\",result)"
   ]
  },
  {
   "cell_type": "code",
   "execution_count": 17,
   "id": "b4080d4b-1aea-4c86-a7b6-4b538d923c9b",
   "metadata": {},
   "outputs": [],
   "source": [
    "# identity Operator \n",
    "X = [1,2,3]\n",
    "Y=X\n",
    "Z=[1,2,3]\n",
    "# print(X is Y) # is operator\n",
    "# print(X is Z)\n",
    "#print(X is not Z) # is not operator"
   ]
  },
  {
   "cell_type": "code",
   "execution_count": null,
   "id": "4ca7d560-589b-42f4-93c6-65fc3e56fb5d",
   "metadata": {},
   "outputs": [],
   "source": []
  }
 ],
 "metadata": {
  "kernelspec": {
   "display_name": "Python 3 (ipykernel)",
   "language": "python",
   "name": "python3"
  },
  "language_info": {
   "codemirror_mode": {
    "name": "ipython",
    "version": 3
   },
   "file_extension": ".py",
   "mimetype": "text/x-python",
   "name": "python",
   "nbconvert_exporter": "python",
   "pygments_lexer": "ipython3",
   "version": "3.13.5"
  }
 },
 "nbformat": 4,
 "nbformat_minor": 5
}
