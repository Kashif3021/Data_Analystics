{
 "cells": [
  {
   "cell_type": "markdown",
   "id": "4b55e2fa-747e-4e71-bf9b-4fff18d88861",
   "metadata": {
    "jp-MarkdownHeadingCollapsed": true
   },
   "source": [
    "# Tuple "
   ]
  },
  {
   "cell_type": "code",
   "execution_count": 1,
   "id": "09932008-f12c-46c5-adb4-fefe56307bb8",
   "metadata": {},
   "outputs": [],
   "source": [
    "# A tuple is a collection of items in Python that is ordered, unchangeable (immutable) and allow duplicate values.\n",
    "# Tuples are used to store multiple items in a single variable.\n",
    "# Note: Ordered – Tuple items have a defined order, but that order will not change."
   ]
  },
  {
   "cell_type": "code",
   "execution_count": 7,
   "id": "b5503d05-401d-419d-b62b-499e7c770ee2",
   "metadata": {},
   "outputs": [],
   "source": [
    "# # Examples\n",
    "# fruits_lists = (\"Apple\",\"Mango\",\"Orange\")\n",
    "# student_data = (\"Ali\",\"age\",350)\n",
    "# print(type(fruits_lists))"
   ]
  },
  {
   "cell_type": "markdown",
   "id": "3b484c41-3e11-426f-b4a5-a2cf2c720ee7",
   "metadata": {},
   "source": [
    "# Create Tuple in Python "
   ]
  },
  {
   "cell_type": "code",
   "execution_count": 9,
   "id": "8b3cf218-00c6-495a-b373-51d996ba0bd5",
   "metadata": {},
   "outputs": [],
   "source": [
    "# There are several ways to create a tuple in Python"
   ]
  },
  {
   "cell_type": "markdown",
   "id": "bfbfc57a-e5c1-489e-b7bf-65d051f3cfb1",
   "metadata": {},
   "source": [
    "# 1. Using Parentheses ()"
   ]
  },
  {
   "cell_type": "code",
   "execution_count": 10,
   "id": "78deada5-2a21-404c-a075-50acfb0fc653",
   "metadata": {},
   "outputs": [],
   "source": [
    "Colurs = (\"Read\",\"Green\",\"Blue\")\n",
    "numbers = (1,2,3,4,5)\n",
    "Mixed = (1,\"Hello\",3.14,True)\n",
    "nested = (1,[2,3],(4,5,6))"
   ]
  },
  {
   "cell_type": "markdown",
   "id": "3f4631dd-8a76-4819-b224-b1a6dc7552ea",
   "metadata": {},
   "source": [
    "# 2 Without Parentheses (Comma-Separated)\n"
   ]
  },
  {
   "cell_type": "code",
   "execution_count": 1,
   "id": "fe38d629-445a-4079-8d90-a3f9b401f532",
   "metadata": {},
   "outputs": [
    {
     "name": "stdout",
     "output_type": "stream",
     "text": [
      "<class 'tuple'>\n"
     ]
    }
   ],
   "source": [
    "Also_Number = 1,2,3,4,5\n",
    "print(type(Also_Number))"
   ]
  },
  {
   "cell_type": "markdown",
   "id": "cbc17dbf-4bfa-47a2-a8c7-968f09ba2fbd",
   "metadata": {},
   "source": [
    "# 3 Using Tuple() Constructor"
   ]
  },
  {
   "cell_type": "code",
   "execution_count": 2,
   "id": "b6792b35-5cc2-4be7-8fd7-6f1522ab487e",
   "metadata": {},
   "outputs": [
    {
     "name": "stdout",
     "output_type": "stream",
     "text": [
      "(1, 5, 6)\n",
      "<class 'tuple'>\n"
     ]
    }
   ],
   "source": [
    "tuple1 = tuple((1,5,6))\n",
    "print(tuple1)\n",
    "print(type(tuple1))"
   ]
  },
  {
   "cell_type": "code",
   "execution_count": null,
   "id": "0c8a4a8a-e7be-4edb-b558-bec59bfbbef2",
   "metadata": {},
   "outputs": [],
   "source": [
    "# another Example "
   ]
  },
  {
   "cell_type": "code",
   "execution_count": 3,
   "id": "557c7b56-1139-44a1-ad56-674205e1fa16",
   "metadata": {},
   "outputs": [],
   "source": [
    "Student_list = [\"Ali\",\"Zubair\",\"Shams\",]"
   ]
  },
  {
   "cell_type": "markdown",
   "id": "b0989462-1366-47b4-b3f1-616c82f31f5c",
   "metadata": {},
   "source": [
    "Student_list_tuple =tuple(Student_list)\n",
    "print(type(Student_list_tuple))"
   ]
  },
  {
   "cell_type": "markdown",
   "id": "f9630678-55db-47f3-9d94-20f1133c0e51",
   "metadata": {},
   "source": [
    "# 3 Creating single element"
   ]
  },
  {
   "cell_type": "code",
   "execution_count": 6,
   "id": "443cd9bb-c3ce-41bd-9914-fc551df445cf",
   "metadata": {},
   "outputs": [
    {
     "name": "stdout",
     "output_type": "stream",
     "text": [
      "('a',)\n",
      "<class 'tuple'>\n"
     ]
    }
   ],
   "source": [
    "a = (\"a\",)\n",
    "print(a)\n",
    "print(type(a))"
   ]
  },
  {
   "cell_type": "markdown",
   "id": "227de64c-82ff-455a-8cc1-a8892e44fd90",
   "metadata": {},
   "source": [
    "#  Accessing of Tuple - indexing"
   ]
  },
  {
   "cell_type": "code",
   "execution_count": null,
   "id": "630ff7d1-930b-45fb-8e3a-de8f0b8aaa1e",
   "metadata": {},
   "outputs": [],
   "source": [
    "student_Courses = (\"Math\",\"English\",\"Urdu\",\"Pak-study\",\"Python\")\n",
    "print(student_Courses)\n"
   ]
  }
 ],
 "metadata": {
  "kernelspec": {
   "display_name": "Python 3 (ipykernel)",
   "language": "python",
   "name": "python3"
  },
  "language_info": {
   "codemirror_mode": {
    "name": "ipython",
    "version": 3
   },
   "file_extension": ".py",
   "mimetype": "text/x-python",
   "name": "python",
   "nbconvert_exporter": "python",
   "pygments_lexer": "ipython3",
   "version": "3.13.7"
  }
 },
 "nbformat": 4,
 "nbformat_minor": 5
}
